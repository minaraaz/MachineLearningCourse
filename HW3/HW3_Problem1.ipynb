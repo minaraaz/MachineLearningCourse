{
  "nbformat": 4,
  "nbformat_minor": 0,
  "metadata": {
    "colab": {
      "name": "HW3-Problem1.ipynb",
      "version": "0.3.2",
      "provenance": [],
      "collapsed_sections": [],
      "include_colab_link": true
    },
    "kernelspec": {
      "name": "python2",
      "display_name": "Python 2"
    },
    "accelerator": "GPU"
  },
  "cells": [
    {
      "cell_type": "markdown",
      "metadata": {
        "id": "view-in-github",
        "colab_type": "text"
      },
      "source": [
        "<a href=\"https://colab.research.google.com/github/minaraaz/MachineLearningCourse/blob/master/HW3/HW3_Problem1.ipynb\" target=\"_parent\"><img src=\"https://colab.research.google.com/assets/colab-badge.svg\" alt=\"Open In Colab\"/></a>"
      ]
    },
    {
      "metadata": {
        "id": "lvHI1QLrQzKK",
        "colab_type": "text"
      },
      "cell_type": "markdown",
      "source": [
        "# Problem 1 solution"
      ]
    },
    {
      "metadata": {
        "id": "7TD9X9bgfl-8",
        "colab_type": "text"
      },
      "cell_type": "markdown",
      "source": [
        "This Colab Notebook is the solution of the problem 1. In this notebook I have used VGG19 pretrained network on imagenet to train the cats and dog dataset."
      ]
    },
    {
      "metadata": {
        "id": "EEJXRGqna3eO",
        "colab_type": "code",
        "outputId": "9007edca-c2a9-4d4a-8294-ca0075a1437f",
        "colab": {
          "base_uri": "https://localhost:8080/",
          "height": 34
        }
      },
      "cell_type": "code",
      "source": [
        "import os\n",
        "from keras import layers\n",
        "from keras import models\n",
        "from keras import optimizers\n",
        "from keras.applications.vgg19 import VGG19\n",
        "from keras.preprocessing.image import ImageDataGenerator\n",
        "from keras.layers import Dense, Flatten, Conv2D, MaxPooling2D, Activation, Dropout\n",
        "import matplotlib.pyplot as plt"
      ],
      "execution_count": 0,
      "outputs": [
        {
          "output_type": "stream",
          "text": [
            "Using TensorFlow backend.\n"
          ],
          "name": "stderr"
        }
      ]
    },
    {
      "metadata": {
        "id": "NlLO4V-uQ_Iw",
        "colab_type": "text"
      },
      "cell_type": "markdown",
      "source": [
        "# Preprocessing Dataset"
      ]
    },
    {
      "metadata": {
        "id": "qQzYvcwAbZC0",
        "colab_type": "code",
        "outputId": "53d94b3c-e0b2-40b3-9e5a-b69db068881d",
        "colab": {
          "base_uri": "https://localhost:8080/",
          "height": 204
        }
      },
      "cell_type": "code",
      "source": [
        "!wget --no-check-certificate \\\n",
        "    https://storage.googleapis.com/mledu-datasets/cats_and_dogs_filtered.zip \\\n",
        "    -O /tmp/cats_and_dogs_filtered.zip"
      ],
      "execution_count": 0,
      "outputs": [
        {
          "output_type": "stream",
          "text": [
            "--2019-04-16 18:38:42--  https://storage.googleapis.com/mledu-datasets/cats_and_dogs_filtered.zip\n",
            "Resolving storage.googleapis.com (storage.googleapis.com)... 209.85.200.128, 2607:f8b0:4001:c07::80\n",
            "Connecting to storage.googleapis.com (storage.googleapis.com)|209.85.200.128|:443... connected.\n",
            "HTTP request sent, awaiting response... 200 OK\n",
            "Length: 68606236 (65M) [application/zip]\n",
            "Saving to: ‘/tmp/cats_and_dogs_filtered.zip’\n",
            "\n",
            "/tmp/cats_and_dogs_ 100%[===================>]  65.43M   150MB/s    in 0.4s    \n",
            "\n",
            "2019-04-16 18:38:43 (150 MB/s) - ‘/tmp/cats_and_dogs_filtered.zip’ saved [68606236/68606236]\n",
            "\n"
          ],
          "name": "stdout"
        }
      ]
    },
    {
      "metadata": {
        "id": "jz7-5NIxbbft",
        "colab_type": "code",
        "colab": {}
      },
      "cell_type": "code",
      "source": [
        "import os\n",
        "import zipfile\n",
        "\n",
        "local_zip = '/tmp/cats_and_dogs_filtered.zip'\n",
        "zip_ref = zipfile.ZipFile(local_zip, 'r')\n",
        "zip_ref.extractall('/tmp')\n",
        "zip_ref.close()"
      ],
      "execution_count": 0,
      "outputs": []
    },
    {
      "metadata": {
        "id": "lTRHs-CVbe99",
        "colab_type": "code",
        "colab": {}
      },
      "cell_type": "code",
      "source": [
        "base_dir = '/tmp/cats_and_dogs_filtered'\n",
        "train_dir = os.path.join(base_dir, 'train')\n",
        "validation_dir = os.path.join(base_dir, 'validation')\n",
        "\n",
        "# Directory with our training cat pictures\n",
        "train_cats_dir = os.path.join(train_dir, 'cats')\n",
        "\n",
        "# Directory with our training dog pictures\n",
        "train_dogs_dir = os.path.join(train_dir, 'dogs')\n",
        "\n",
        "# Directory with our validation cat pictures\n",
        "validation_cats_dir = os.path.join(validation_dir, 'cats')\n",
        "\n",
        "# Directory with our validation dog pictures\n",
        "validation_dogs_dir = os.path.join(validation_dir, 'dogs')"
      ],
      "execution_count": 0,
      "outputs": []
    },
    {
      "metadata": {
        "id": "BcFNhslWRFFp",
        "colab_type": "text"
      },
      "cell_type": "markdown",
      "source": [
        "# Creating CNN using VGG19"
      ]
    },
    {
      "metadata": {
        "id": "n359Bwc9Riiz",
        "colab_type": "text"
      },
      "cell_type": "markdown",
      "source": [
        "Here we load VGG19 pretrained model and freeze it and then train our classifer."
      ]
    },
    {
      "metadata": {
        "id": "jTV9JhJQbfVH",
        "colab_type": "code",
        "outputId": "5bfff95d-0b5f-41f6-9266-7ef3fe27c8b9",
        "colab": {
          "base_uri": "https://localhost:8080/",
          "height": 139
        }
      },
      "cell_type": "code",
      "source": [
        "# Convnet\n",
        "conv_base = VGG19(weights='imagenet', include_top=False, input_shape=(224, 224, 3))\n",
        "conv_base.trainable = False\n",
        "\n",
        "model = models.Sequential()\n",
        "model.add(conv_base)\n",
        "model.add(Dropout(0.2))\n",
        "model.add(layers.Flatten())\n",
        "model.add(layers.Dense(256, activation='relu'))\n",
        "model.add(Dropout(0.5))\n",
        "model.add(layers.Dense(1, activation='sigmoid'))"
      ],
      "execution_count": 0,
      "outputs": [
        {
          "output_type": "stream",
          "text": [
            "WARNING:tensorflow:From /usr/local/lib/python2.7/dist-packages/tensorflow/python/framework/op_def_library.py:263: colocate_with (from tensorflow.python.framework.ops) is deprecated and will be removed in a future version.\n",
            "Instructions for updating:\n",
            "Colocations handled automatically by placer.\n",
            "WARNING:tensorflow:From /usr/local/lib/python2.7/dist-packages/keras/backend/tensorflow_backend.py:3445: calling dropout (from tensorflow.python.ops.nn_ops) with keep_prob is deprecated and will be removed in a future version.\n",
            "Instructions for updating:\n",
            "Please use `rate` instead of `keep_prob`. Rate should be set to `rate = 1 - keep_prob`.\n"
          ],
          "name": "stdout"
        }
      ]
    },
    {
      "metadata": {
        "id": "igckU9i9bp9Q",
        "colab_type": "code",
        "outputId": "d7dc9eff-08b9-4f1f-ee74-141f9c4134e7",
        "colab": {
          "base_uri": "https://localhost:8080/",
          "height": 51
        }
      },
      "cell_type": "code",
      "source": [
        "# data augmentation\n",
        "train_datagen = ImageDataGenerator(\n",
        "    rescale=1./255, \n",
        "    rotation_range=45,\n",
        "    width_shift_range=0.2,\n",
        "    height_shift_range=0.2,\n",
        "    shear_range=0.2,\n",
        "    zoom_range=0.2,\n",
        "    horizontal_flip=True,\n",
        "    vertical_flip=True\n",
        ")\n",
        "\n",
        "train_generator = train_datagen.flow_from_directory(train_dir, target_size=(224, 224), batch_size=20, class_mode='binary')\n",
        "validation_datagen = ImageDataGenerator(rescale=1./255)\n",
        "validation_generator = validation_datagen.flow_from_directory(validation_dir, target_size=(224, 224), batch_size=20, class_mode='binary')"
      ],
      "execution_count": 0,
      "outputs": [
        {
          "output_type": "stream",
          "text": [
            "Found 2000 images belonging to 2 classes.\n",
            "Found 1000 images belonging to 2 classes.\n"
          ],
          "name": "stdout"
        }
      ]
    },
    {
      "metadata": {
        "id": "tODR-H2TbqwP",
        "colab_type": "code",
        "outputId": "04139cbe-1d02-4c4f-f607-f3440f48f7db",
        "colab": {
          "base_uri": "https://localhost:8080/",
          "height": 1717
        }
      },
      "cell_type": "code",
      "source": [
        "# compile model\n",
        "model.compile(loss='binary_crossentropy', optimizer=optimizers.RMSprop(lr=3e-5), metrics=['acc'])\n",
        "\n",
        "# train\n",
        "history = model.fit_generator(train_generator, steps_per_epoch=100, epochs=50, validation_data=validation_generator, validation_steps=50)"
      ],
      "execution_count": 0,
      "outputs": [
        {
          "output_type": "stream",
          "text": [
            "Epoch 1/50\n",
            "100/100 [==============================] - 35s 355ms/step - loss: 0.5905 - acc: 0.6750 - val_loss: 0.4273 - val_acc: 0.7970\n",
            "Epoch 2/50\n",
            "100/100 [==============================] - 32s 318ms/step - loss: 0.5662 - acc: 0.7080 - val_loss: 0.4257 - val_acc: 0.8080\n",
            "Epoch 3/50\n",
            "100/100 [==============================] - 32s 318ms/step - loss: 0.5505 - acc: 0.7130 - val_loss: 0.3698 - val_acc: 0.8350\n",
            "Epoch 4/50\n",
            "100/100 [==============================] - 33s 331ms/step - loss: 0.5199 - acc: 0.7305 - val_loss: 0.3749 - val_acc: 0.8150\n",
            "Epoch 5/50\n",
            "100/100 [==============================] - 32s 318ms/step - loss: 0.5280 - acc: 0.7315 - val_loss: 0.3504 - val_acc: 0.8420\n",
            "Epoch 6/50\n",
            "100/100 [==============================] - 32s 321ms/step - loss: 0.5198 - acc: 0.7375 - val_loss: 0.3871 - val_acc: 0.8120\n",
            "Epoch 7/50\n",
            "100/100 [==============================] - 32s 322ms/step - loss: 0.4999 - acc: 0.7610 - val_loss: 0.3682 - val_acc: 0.8250\n",
            "Epoch 8/50\n",
            "100/100 [==============================] - 32s 317ms/step - loss: 0.4929 - acc: 0.7675 - val_loss: 0.3210 - val_acc: 0.8530\n",
            "Epoch 9/50\n",
            "100/100 [==============================] - 33s 331ms/step - loss: 0.4602 - acc: 0.7765 - val_loss: 0.3620 - val_acc: 0.8300\n",
            "Epoch 10/50\n",
            "100/100 [==============================] - 32s 325ms/step - loss: 0.4885 - acc: 0.7630 - val_loss: 0.3414 - val_acc: 0.8430\n",
            "Epoch 11/50\n",
            "100/100 [==============================] - 32s 321ms/step - loss: 0.4952 - acc: 0.7620 - val_loss: 0.2738 - val_acc: 0.8740\n",
            "Epoch 12/50\n",
            "100/100 [==============================] - 32s 320ms/step - loss: 0.4650 - acc: 0.7810 - val_loss: 0.3208 - val_acc: 0.8670\n",
            "Epoch 13/50\n",
            "100/100 [==============================] - 32s 317ms/step - loss: 0.4720 - acc: 0.7725 - val_loss: 0.3106 - val_acc: 0.8580\n",
            "Epoch 14/50\n",
            "100/100 [==============================] - 33s 331ms/step - loss: 0.4599 - acc: 0.7825 - val_loss: 0.2867 - val_acc: 0.8830\n",
            "Epoch 15/50\n",
            "100/100 [==============================] - 32s 316ms/step - loss: 0.4582 - acc: 0.7895 - val_loss: 0.3111 - val_acc: 0.8670\n",
            "Epoch 16/50\n",
            "100/100 [==============================] - 34s 336ms/step - loss: 0.4608 - acc: 0.7855 - val_loss: 0.2803 - val_acc: 0.8780\n",
            "Epoch 17/50\n",
            "100/100 [==============================] - 32s 318ms/step - loss: 0.4594 - acc: 0.7735 - val_loss: 0.2746 - val_acc: 0.8870\n",
            "Epoch 18/50\n",
            "100/100 [==============================] - 32s 318ms/step - loss: 0.4577 - acc: 0.7835 - val_loss: 0.2915 - val_acc: 0.8690\n",
            "Epoch 19/50\n",
            "100/100 [==============================] - 34s 339ms/step - loss: 0.4439 - acc: 0.7920 - val_loss: 0.2758 - val_acc: 0.8780\n",
            "Epoch 20/50\n",
            "100/100 [==============================] - 32s 318ms/step - loss: 0.4479 - acc: 0.7960 - val_loss: 0.2837 - val_acc: 0.8770\n",
            "Epoch 21/50\n",
            "100/100 [==============================] - 32s 324ms/step - loss: 0.4282 - acc: 0.8025 - val_loss: 0.2656 - val_acc: 0.8810\n",
            "Epoch 22/50\n",
            "100/100 [==============================] - 32s 317ms/step - loss: 0.4223 - acc: 0.8045 - val_loss: 0.2905 - val_acc: 0.8740\n",
            "Epoch 23/50\n",
            "100/100 [==============================] - 32s 317ms/step - loss: 0.4341 - acc: 0.7950 - val_loss: 0.2813 - val_acc: 0.8800\n",
            "Epoch 24/50\n",
            "100/100 [==============================] - 33s 331ms/step - loss: 0.4385 - acc: 0.7965 - val_loss: 0.3030 - val_acc: 0.8690\n",
            "Epoch 25/50\n",
            "100/100 [==============================] - 32s 319ms/step - loss: 0.4249 - acc: 0.8045 - val_loss: 0.2630 - val_acc: 0.8790\n",
            "Epoch 26/50\n",
            "100/100 [==============================] - 34s 342ms/step - loss: 0.4202 - acc: 0.8100 - val_loss: 0.2596 - val_acc: 0.8860\n",
            "Epoch 27/50\n",
            "100/100 [==============================] - 32s 320ms/step - loss: 0.4252 - acc: 0.7965 - val_loss: 0.2789 - val_acc: 0.8710\n",
            "Epoch 28/50\n",
            "100/100 [==============================] - 32s 317ms/step - loss: 0.4215 - acc: 0.8060 - val_loss: 0.2723 - val_acc: 0.8930\n",
            "Epoch 29/50\n",
            "100/100 [==============================] - 33s 333ms/step - loss: 0.4198 - acc: 0.8055 - val_loss: 0.2535 - val_acc: 0.8860\n",
            "Epoch 30/50\n",
            "100/100 [==============================] - 32s 318ms/step - loss: 0.4181 - acc: 0.8040 - val_loss: 0.2825 - val_acc: 0.8810\n",
            "Epoch 31/50\n",
            "100/100 [==============================] - 33s 329ms/step - loss: 0.4110 - acc: 0.8135 - val_loss: 0.2688 - val_acc: 0.8840\n",
            "Epoch 32/50\n",
            "100/100 [==============================] - 32s 318ms/step - loss: 0.4280 - acc: 0.8100 - val_loss: 0.2809 - val_acc: 0.8780\n",
            "Epoch 33/50\n",
            "100/100 [==============================] - 32s 316ms/step - loss: 0.4064 - acc: 0.8175 - val_loss: 0.2634 - val_acc: 0.8920\n",
            "Epoch 34/50\n",
            "100/100 [==============================] - 33s 330ms/step - loss: 0.4193 - acc: 0.8075 - val_loss: 0.2648 - val_acc: 0.8830\n",
            "Epoch 35/50\n",
            "100/100 [==============================] - 32s 324ms/step - loss: 0.4106 - acc: 0.8175 - val_loss: 0.2549 - val_acc: 0.8880\n",
            "Epoch 36/50\n",
            "100/100 [==============================] - 33s 330ms/step - loss: 0.4188 - acc: 0.8120 - val_loss: 0.2982 - val_acc: 0.8690\n",
            "Epoch 37/50\n",
            "100/100 [==============================] - 32s 316ms/step - loss: 0.4397 - acc: 0.7910 - val_loss: 0.2766 - val_acc: 0.8790\n",
            "Epoch 38/50\n",
            "100/100 [==============================] - 32s 323ms/step - loss: 0.4059 - acc: 0.8055 - val_loss: 0.2643 - val_acc: 0.8920\n",
            "Epoch 39/50\n",
            "100/100 [==============================] - 33s 331ms/step - loss: 0.4078 - acc: 0.8050 - val_loss: 0.2852 - val_acc: 0.8660\n",
            "Epoch 40/50\n",
            "100/100 [==============================] - 32s 315ms/step - loss: 0.4185 - acc: 0.8035 - val_loss: 0.2635 - val_acc: 0.8900\n",
            "Epoch 41/50\n",
            "100/100 [==============================] - 33s 329ms/step - loss: 0.4051 - acc: 0.8185 - val_loss: 0.2631 - val_acc: 0.8880\n",
            "Epoch 42/50\n",
            "100/100 [==============================] - 31s 315ms/step - loss: 0.4184 - acc: 0.8120 - val_loss: 0.2533 - val_acc: 0.8900\n",
            "Epoch 43/50\n",
            "100/100 [==============================] - 32s 315ms/step - loss: 0.4092 - acc: 0.8030 - val_loss: 0.2525 - val_acc: 0.8920\n",
            "Epoch 44/50\n",
            "100/100 [==============================] - 33s 330ms/step - loss: 0.4193 - acc: 0.8030 - val_loss: 0.2486 - val_acc: 0.9020\n",
            "Epoch 45/50\n",
            "100/100 [==============================] - 33s 330ms/step - loss: 0.4171 - acc: 0.8085 - val_loss: 0.3106 - val_acc: 0.8830\n",
            "Epoch 46/50\n",
            "100/100 [==============================] - 33s 329ms/step - loss: 0.3964 - acc: 0.8170 - val_loss: 0.2512 - val_acc: 0.8950\n",
            "Epoch 47/50\n",
            "100/100 [==============================] - 32s 315ms/step - loss: 0.3969 - acc: 0.8145 - val_loss: 0.2584 - val_acc: 0.8880\n",
            "Epoch 48/50\n",
            "100/100 [==============================] - 32s 316ms/step - loss: 0.3941 - acc: 0.8225 - val_loss: 0.2793 - val_acc: 0.8850\n",
            "Epoch 49/50\n",
            "100/100 [==============================] - 33s 327ms/step - loss: 0.4190 - acc: 0.8160 - val_loss: 0.2502 - val_acc: 0.8960\n",
            "Epoch 50/50\n",
            "100/100 [==============================] - 31s 314ms/step - loss: 0.4001 - acc: 0.8140 - val_loss: 0.2449 - val_acc: 0.9020\n"
          ],
          "name": "stdout"
        }
      ]
    },
    {
      "metadata": {
        "id": "Ba-e1GoCRP18",
        "colab_type": "text"
      },
      "cell_type": "markdown",
      "source": [
        "# Visualization"
      ]
    },
    {
      "metadata": {
        "id": "CUKkW4SQbw8J",
        "colab_type": "code",
        "outputId": "dbc88a43-fa30-4665-a5d0-1d54189695d0",
        "colab": {
          "base_uri": "https://localhost:8080/",
          "height": 545
        }
      },
      "cell_type": "code",
      "source": [
        "acc = history.history['acc']\n",
        "val_acc = history.history['val_acc']\n",
        "\n",
        "loss = history.history['loss']\n",
        "val_loss = history.history['val_loss']\n",
        "\n",
        "epochs = range(1, len(acc) + 1)\n",
        "\n",
        "# training and validation accuracy\n",
        "\n",
        "plt.plot(epochs, acc, 'go', label='training acc')\n",
        "plt.plot(epochs, val_acc, 'g', label='validation acc')\n",
        "plt.title('training and validation accuracy')\n",
        "plt.legend()\n",
        "\n",
        "plt.figure()\n",
        "\n",
        "# training and validation loss\n",
        "\n",
        "plt.plot(epochs, loss, 'ro', label='training loss')\n",
        "plt.plot(epochs, val_loss, 'r', label='validation loss')\n",
        "plt.title('training and validation loss')\n",
        "plt.legend()\n",
        "\n",
        "plt.show()"
      ],
      "execution_count": 0,
      "outputs": [
        {
          "output_type": "display_data",
          "data": {
            "image/png": "[encoded data removed]",
            "text/plain": [
              "<Figure size 432x288 with 1 Axes>"
            ]
          },
          "metadata": {
            "tags": []
          }
        },
        {
          "output_type": "display_data",
          "data": {
            "image/png": "[encoded data removed]",
            "text/plain": [
              "<Figure size 432x288 with 1 Axes>"
            ]
          },
          "metadata": {
            "tags": []
          }
        }
      ]
    },
    {
      "metadata": {
        "id": "PYf1ewWyRUW5",
        "colab_type": "text"
      },
      "cell_type": "markdown",
      "source": [
        "# Evaluating the model"
      ]
    },
    {
      "metadata": {
        "id": "_ONRc8j3bzMo",
        "colab_type": "code",
        "outputId": "f3c79b5a-16f6-4fc8-9c33-bbacbec10113",
        "colab": {
          "base_uri": "https://localhost:8080/",
          "height": 51
        }
      },
      "cell_type": "code",
      "source": [
        "val_loss, val_acc = model.evaluate_generator(validation_generator, steps=50)\n",
        "print(\"Validation loss:\", val_loss)\n",
        "print(\"Validation accuracy:\", val_acc)"
      ],
      "execution_count": 0,
      "outputs": [
        {
          "output_type": "stream",
          "text": [
            "('Validation loss:', 0.2587303864583373)\n",
            "('Validation accuracy:', 0.8919999969005584)\n"
          ],
          "name": "stdout"
        }
      ]
    }
  ]
}