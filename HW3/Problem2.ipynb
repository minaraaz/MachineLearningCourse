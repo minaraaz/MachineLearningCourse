{
 "cells": [
  {
   "cell_type": "code",
   "execution_count": 1,
   "metadata": {},
   "outputs": [
    {
     "name": "stderr",
     "output_type": "stream",
     "text": [
      "Using TensorFlow backend.\n"
     ]
    }
   ],
   "source": [
    "import os\n",
    "from keras import layers\n",
    "from keras import models\n",
    "from keras import optimizers\n",
    "from keras.applications.vgg19 import VGG19\n",
    "from keras.preprocessing.image import ImageDataGenerator\n",
    "import matplotlib.pyplot as plt\n",
    "import cv2\n",
    "import numpy as np\n",
    "from keras import backend as K\n",
    "from keras.preprocessing import image\n",
    "from keras.applications.vgg19 import preprocess_input, decode_predictions\n",
    "import tensorflow as tf\n",
    "from keras.layers import Dense, Activation, Flatten"
   ]
  },
  {
   "cell_type": "code",
   "execution_count": 2,
   "metadata": {},
   "outputs": [],
   "source": [
    "# importing data\n",
    "base_dir = '/home/minool/Documents/Projects/MachineLearning/HW3/cats_and_dogs_filtered'\n",
    "train_dir = os.path.join(base_dir, 'train')\n",
    "validation_dir = os.path.join(base_dir, 'validation')\n",
    "\n",
    "# Directory with our training cat pictures\n",
    "train_cats_dir = os.path.join(train_dir, 'cats')\n",
    "\n",
    "# Directory with our training dog pictures\n",
    "train_dogs_dir = os.path.join(train_dir, 'dogs')\n",
    "\n",
    "# Directory with our validation cat pictures\n",
    "validation_cats_dir = os.path.join(validation_dir, 'cats')\n",
    "\n",
    "# Directory with our validation dog pictures\n",
    "validation_dogs_dir = os.path.join(validation_dir, 'dogs')"
   ]
  },
  {
   "cell_type": "code",
   "execution_count": 3,
   "metadata": {},
   "outputs": [
    {
     "name": "stdout",
     "output_type": "stream",
     "text": [
      "Found 2000 images belonging to 2 classes.\n",
      "Found 1000 images belonging to 2 classes.\n"
     ]
    }
   ],
   "source": [
    "# Convnet\n",
    "conv_base = VGG19(weights='imagenet', include_top=False, input_shape=(224, 224, 3))\n",
    "\n",
    "x = Flatten(name='flatten')(conv_base.output)\n",
    "x = Dense(256, activation='relu', name='fc1')(x)\n",
    "x = Dense(1, activation='sigmoid', name='predictions')(x)\n",
    "\n",
    "# stitch together\n",
    "model = models.Model(inputs= conv_base.input, outputs=x)\n",
    "\n",
    "# data augmentation\n",
    "\n",
    "train_datagen = ImageDataGenerator(\n",
    "    rescale=1./255, \n",
    "    rotation_range=45,\n",
    "    width_shift_range=0.2,\n",
    "    height_shift_range=0.2,\n",
    "    shear_range=0.2,\n",
    "    zoom_range=0.2,\n",
    "    horizontal_flip=True,\n",
    "    vertical_flip=True\n",
    ")\n",
    "\n",
    "train_generator = train_datagen.flow_from_directory(\n",
    "    train_dir,\n",
    "    target_size=(224, 224),\n",
    "    batch_size=20,\n",
    "    class_mode='binary')\n",
    "\n",
    "validation_datagen = ImageDataGenerator(rescale=1./255)\n",
    "\n",
    "validation_generator = validation_datagen.flow_from_directory(\n",
    "    validation_dir,\n",
    "    target_size=(224, 224),\n",
    "    batch_size=20,\n",
    "    class_mode='binary')"
   ]
  },
  {
   "cell_type": "code",
   "execution_count": 4,
   "metadata": {},
   "outputs": [],
   "source": [
    "# Fine Tuning\n",
    "conv_base.trainable = True\n",
    "\n",
    "set_trainable = False\n",
    "for layer in conv_base.layers:\n",
    "    if layer.name == 'block5_conv1':\n",
    "        layer.trainable = True\n",
    "    else:\n",
    "        layer.trainable = False"
   ]
  },
  {
   "cell_type": "code",
   "execution_count": 7,
   "metadata": {},
   "outputs": [
    {
     "name": "stdout",
     "output_type": "stream",
     "text": [
      "Epoch 1/30\n",
      "100/100 [==============================] - 28s 279ms/step - loss: 0.3010 - acc: 0.8730 - val_loss: 0.1786 - val_acc: 0.9410\n",
      "Epoch 2/30\n",
      "100/100 [==============================] - 26s 263ms/step - loss: 0.2739 - acc: 0.8825 - val_loss: 0.1839 - val_acc: 0.9270\n",
      "Epoch 3/30\n",
      "100/100 [==============================] - 26s 260ms/step - loss: 0.2875 - acc: 0.8800 - val_loss: 0.1984 - val_acc: 0.9200\n",
      "Epoch 4/30\n",
      "100/100 [==============================] - 26s 263ms/step - loss: 0.2500 - acc: 0.8990 - val_loss: 0.1989 - val_acc: 0.9220\n",
      "Epoch 5/30\n",
      "100/100 [==============================] - 26s 263ms/step - loss: 0.2530 - acc: 0.9000 - val_loss: 0.1639 - val_acc: 0.9460\n",
      "Epoch 6/30\n",
      "100/100 [==============================] - 26s 258ms/step - loss: 0.2325 - acc: 0.9015 - val_loss: 0.1813 - val_acc: 0.9250\n",
      "Epoch 7/30\n",
      "100/100 [==============================] - 25s 255ms/step - loss: 0.2462 - acc: 0.8980 - val_loss: 0.1616 - val_acc: 0.9440\n",
      "Epoch 8/30\n",
      "100/100 [==============================] - 26s 256ms/step - loss: 0.2321 - acc: 0.9025 - val_loss: 0.1621 - val_acc: 0.9370\n",
      "Epoch 9/30\n",
      "100/100 [==============================] - 26s 260ms/step - loss: 0.2153 - acc: 0.9120 - val_loss: 0.1662 - val_acc: 0.9410\n",
      "Epoch 10/30\n",
      "100/100 [==============================] - 26s 259ms/step - loss: 0.2205 - acc: 0.9060 - val_loss: 0.1535 - val_acc: 0.9550\n",
      "Epoch 11/30\n",
      "100/100 [==============================] - 26s 261ms/step - loss: 0.2200 - acc: 0.8970 - val_loss: 0.1346 - val_acc: 0.9580\n",
      "Epoch 12/30\n",
      "100/100 [==============================] - 26s 260ms/step - loss: 0.1983 - acc: 0.9170 - val_loss: 0.1502 - val_acc: 0.9430\n",
      "Epoch 13/30\n",
      "100/100 [==============================] - 27s 275ms/step - loss: 0.1976 - acc: 0.9150 - val_loss: 0.1355 - val_acc: 0.9500\n",
      "Epoch 14/30\n",
      "100/100 [==============================] - 27s 266ms/step - loss: 0.1913 - acc: 0.9220 - val_loss: 0.1680 - val_acc: 0.9480\n",
      "Epoch 15/30\n",
      "100/100 [==============================] - 26s 263ms/step - loss: 0.1900 - acc: 0.9220 - val_loss: 0.2175 - val_acc: 0.9200\n",
      "Epoch 16/30\n",
      "100/100 [==============================] - 26s 265ms/step - loss: 0.1758 - acc: 0.9295 - val_loss: 0.1410 - val_acc: 0.9400\n",
      "Epoch 17/30\n",
      "100/100 [==============================] - 26s 263ms/step - loss: 0.1893 - acc: 0.9175 - val_loss: 0.1428 - val_acc: 0.9500\n",
      "Epoch 18/30\n",
      "100/100 [==============================] - 26s 263ms/step - loss: 0.1819 - acc: 0.9195 - val_loss: 0.1384 - val_acc: 0.9600\n",
      "Epoch 19/30\n",
      "100/100 [==============================] - 25s 255ms/step - loss: 0.1623 - acc: 0.9335 - val_loss: 0.1866 - val_acc: 0.9290\n",
      "Epoch 20/30\n",
      "100/100 [==============================] - 26s 257ms/step - loss: 0.1719 - acc: 0.9275 - val_loss: 0.1594 - val_acc: 0.9470\n",
      "Epoch 21/30\n",
      "100/100 [==============================] - 26s 257ms/step - loss: 0.1623 - acc: 0.9330 - val_loss: 0.1449 - val_acc: 0.9460\n",
      "Epoch 22/30\n",
      "100/100 [==============================] - 26s 257ms/step - loss: 0.1720 - acc: 0.9285 - val_loss: 0.1550 - val_acc: 0.9590\n",
      "Epoch 23/30\n",
      "100/100 [==============================] - 26s 256ms/step - loss: 0.1578 - acc: 0.9365 - val_loss: 0.1901 - val_acc: 0.9270\n",
      "Epoch 24/30\n",
      "100/100 [==============================] - 26s 261ms/step - loss: 0.1555 - acc: 0.9365 - val_loss: 0.1435 - val_acc: 0.9550\n",
      "Epoch 25/30\n",
      "100/100 [==============================] - 26s 262ms/step - loss: 0.1639 - acc: 0.9300 - val_loss: 0.1718 - val_acc: 0.9420\n",
      "Epoch 26/30\n",
      "100/100 [==============================] - 26s 262ms/step - loss: 0.1671 - acc: 0.9300 - val_loss: 0.1332 - val_acc: 0.9520\n",
      "Epoch 27/30\n",
      "100/100 [==============================] - 26s 263ms/step - loss: 0.1501 - acc: 0.9395 - val_loss: 0.1189 - val_acc: 0.9610\n",
      "Epoch 28/30\n",
      "100/100 [==============================] - 27s 270ms/step - loss: 0.1623 - acc: 0.9360 - val_loss: 0.1620 - val_acc: 0.9420\n",
      "Epoch 29/30\n",
      "100/100 [==============================] - 27s 267ms/step - loss: 0.1499 - acc: 0.9420 - val_loss: 0.2052 - val_acc: 0.9360\n",
      "Epoch 30/30\n",
      "100/100 [==============================] - 27s 275ms/step - loss: 0.1620 - acc: 0.9350 - val_loss: 0.2076 - val_acc: 0.9260\n"
     ]
    }
   ],
   "source": [
    "# compile model\n",
    "\n",
    "model.compile(\n",
    "    loss='binary_crossentropy',optimizer=optimizers.RMSprop(lr=1e-5), metrics=['acc'])\n",
    "\n",
    "# train\n",
    "\n",
    "history = model.fit_generator(train_generator,steps_per_epoch=100,epochs=30,validation_data=validation_generator,\n",
    "    validation_steps=50)"
   ]
  },
  {
   "cell_type": "code",
   "execution_count": 8,
   "metadata": {},
   "outputs": [
    {
     "data": {
      "image/png": "[encoded data removed]",
      "text/plain": [
       "<Figure size 432x288 with 1 Axes>"
      ]
     },
     "metadata": {
      "needs_background": "light"
     },
     "output_type": "display_data"
    },
    {
     "data": {
      "image/png": "[encoded data removed]",
      "text/plain": [
       "<Figure size 432x288 with 1 Axes>"
      ]
     },
     "metadata": {
      "needs_background": "light"
     },
     "output_type": "display_data"
    }
   ],
   "source": [
    "acc = history.history['acc']\n",
    "val_acc = history.history['val_acc']\n",
    "\n",
    "loss = history.history['loss']\n",
    "val_loss = history.history['val_loss']\n",
    "\n",
    "epochs = range(1, len(acc) + 1)\n",
    "\n",
    "# training and validation accuracy\n",
    "\n",
    "plt.plot(epochs, acc, 'go', label='training acc')\n",
    "plt.plot(epochs, val_acc, 'g', label='validation acc')\n",
    "plt.title('training and validation accuracy')\n",
    "plt.legend()\n",
    "\n",
    "plt.figure()\n",
    "\n",
    "# training and validation loss\n",
    "\n",
    "plt.plot(epochs, loss, 'ro', label='training loss')\n",
    "plt.plot(epochs, val_loss, 'r', label='validation loss')\n",
    "plt.title('training and validation loss')\n",
    "plt.legend()\n",
    "\n",
    "plt.show()"
   ]
  },
  {
   "cell_type": "code",
   "execution_count": 9,
   "metadata": {},
   "outputs": [
    {
     "name": "stdout",
     "output_type": "stream",
     "text": [
      "('Validation loss:', 0.17187768438830972)\n",
      "('Validation accuracy:', 0.9389999902248383)\n"
     ]
    }
   ],
   "source": [
    "val_loss, val_acc = model.evaluate_generator(validation_generator, steps=50)\n",
    "print(\"Validation loss:\", val_loss)\n",
    "print(\"Validation accuracy:\", val_acc)"
   ]
  },
  {
   "cell_type": "code",
   "execution_count": null,
   "metadata": {},
   "outputs": [],
   "source": []
  }
 ],
 "metadata": {
  "kernelspec": {
   "display_name": "Python 2",
   "language": "python",
   "name": "python2"
  },
  "language_info": {
   "codemirror_mode": {
    "name": "ipython",
    "version": 2
   },
   "file_extension": ".py",
   "mimetype": "text/x-python",
   "name": "python",
   "nbconvert_exporter": "python",
   "pygments_lexer": "ipython2",
   "version": "2.7.12"
  }
 },
 "nbformat": 4,
 "nbformat_minor": 2
}
