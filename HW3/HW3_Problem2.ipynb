{
  "nbformat": 4,
  "nbformat_minor": 0,
  "metadata": {
    "colab": {
      "name": "HW3-Problem2.ipynb",
      "version": "0.3.2",
      "provenance": [],
      "collapsed_sections": [],
      "include_colab_link": true
    },
    "kernelspec": {
      "name": "python2",
      "display_name": "Python 2"
    },
    "accelerator": "GPU"
  },
  "cells": [
    {
      "cell_type": "markdown",
      "metadata": {
        "id": "view-in-github",
        "colab_type": "text"
      },
      "source": [
        "<a href=\"https://colab.research.google.com/github/minaraaz/MachineLearningCourse/blob/master/HW3/HW3_Problem2.ipynb\" target=\"_parent\"><img src=\"https://colab.research.google.com/assets/colab-badge.svg\" alt=\"Open In Colab\"/></a>"
      ]
    },
    {
      "metadata": {
        "id": "mWlZ7fn4S_9o",
        "colab_type": "text"
      },
      "cell_type": "markdown",
      "source": [
        "# Problem 2"
      ]
    },
    {
      "metadata": {
        "id": "yUeITgviTC8N",
        "colab_type": "text"
      },
      "cell_type": "markdown",
      "source": [
        "This Colab Notebook is the solution of the problem 2. In this notebook I have used VGG19 pretrained network on imagenet to train the cats and dog dataset and fine tuned my network with its weights."
      ]
    },
    {
      "metadata": {
        "id": "SomzvhkTcjVU",
        "colab_type": "code",
        "colab": {}
      },
      "cell_type": "code",
      "source": [
        "import os\n",
        "from keras import layers\n",
        "from keras import models\n",
        "from keras import optimizers\n",
        "from keras.applications.vgg19 import VGG19\n",
        "from keras.preprocessing.image import ImageDataGenerator\n",
        "import matplotlib.pyplot as plt\n",
        "import cv2\n",
        "import numpy as np\n",
        "from keras import backend as K\n",
        "from keras.preprocessing import image\n",
        "from keras.applications.vgg19 import preprocess_input, decode_predictions\n",
        "import tensorflow as tf\n",
        "from keras.layers import Dense, Activation, Flatten, Dropout"
      ],
      "execution_count": 0,
      "outputs": []
    },
    {
      "metadata": {
        "id": "Pay6E9EBTZrO",
        "colab_type": "text"
      },
      "cell_type": "markdown",
      "source": [
        "# Preprocessing dataset"
      ]
    },
    {
      "metadata": {
        "id": "nCaxhoXQc9gA",
        "colab_type": "code",
        "outputId": "14266e7a-aba1-4a36-de7d-1323611dd668",
        "colab": {
          "base_uri": "https://localhost:8080/",
          "height": 204
        }
      },
      "cell_type": "code",
      "source": [
        "!wget --no-check-certificate \\\n",
        "    https://storage.googleapis.com/mledu-datasets/cats_and_dogs_filtered.zip \\\n",
        "    -O /tmp/cats_and_dogs_filtered.zip"
      ],
      "execution_count": 0,
      "outputs": [
        {
          "output_type": "stream",
          "text": [
            "--2019-04-16 19:10:52--  https://storage.googleapis.com/mledu-datasets/cats_and_dogs_filtered.zip\n",
            "Resolving storage.googleapis.com (storage.googleapis.com)... 74.125.129.128, 2607:f8b0:4001:c1d::80\n",
            "Connecting to storage.googleapis.com (storage.googleapis.com)|74.125.129.128|:443... connected.\n",
            "HTTP request sent, awaiting response... 200 OK\n",
            "Length: 68606236 (65M) [application/zip]\n",
            "Saving to: ‘/tmp/cats_and_dogs_filtered.zip’\n",
            "\n",
            "/tmp/cats_and_dogs_ 100%[===================>]  65.43M   112MB/s    in 0.6s    \n",
            "\n",
            "2019-04-16 19:10:53 (112 MB/s) - ‘/tmp/cats_and_dogs_filtered.zip’ saved [68606236/68606236]\n",
            "\n"
          ],
          "name": "stdout"
        }
      ]
    },
    {
      "metadata": {
        "id": "pfjAr-T-dAKH",
        "colab_type": "code",
        "colab": {}
      },
      "cell_type": "code",
      "source": [
        "import os\n",
        "import zipfile\n",
        "\n",
        "local_zip = '/tmp/cats_and_dogs_filtered.zip'\n",
        "zip_ref = zipfile.ZipFile(local_zip, 'r')\n",
        "zip_ref.extractall('/tmp')\n",
        "zip_ref.close()"
      ],
      "execution_count": 0,
      "outputs": []
    },
    {
      "metadata": {
        "id": "D7hkIXtPdD-m",
        "colab_type": "code",
        "colab": {}
      },
      "cell_type": "code",
      "source": [
        "base_dir = '/tmp/cats_and_dogs_filtered'\n",
        "train_dir = os.path.join(base_dir, 'train')\n",
        "validation_dir = os.path.join(base_dir, 'validation')\n",
        "\n",
        "# Directory with our training cat pictures\n",
        "train_cats_dir = os.path.join(train_dir, 'cats')\n",
        "\n",
        "# Directory with our training dog pictures\n",
        "train_dogs_dir = os.path.join(train_dir, 'dogs')\n",
        "\n",
        "# Directory with our validation cat pictures\n",
        "validation_cats_dir = os.path.join(validation_dir, 'cats')\n",
        "\n",
        "# Directory with our validation dog pictures\n",
        "validation_dogs_dir = os.path.join(validation_dir, 'dogs')"
      ],
      "execution_count": 0,
      "outputs": []
    },
    {
      "metadata": {
        "id": "Y9pLJuDHTxu5",
        "colab_type": "text"
      },
      "cell_type": "markdown",
      "source": [
        "# Creating CNN using VGG19"
      ]
    },
    {
      "metadata": {
        "id": "mkfxrRmBdcDI",
        "colab_type": "code",
        "outputId": "96f15a14-a810-406a-f6d5-fa2d2ba8a118",
        "colab": {
          "base_uri": "https://localhost:8080/",
          "height": 173
        }
      },
      "cell_type": "code",
      "source": [
        "# Convnet\n",
        "conv_base = VGG19(weights='imagenet', include_top=False, input_shape=(224, 224, 3))\n",
        "\n",
        "x = Flatten(name='flatten')(conv_base.output)\n",
        "x = Dropout(0.5)(x)\n",
        "x = Dense(256, activation='relu', name='fc1')(x)\n",
        "x = Dense(2, activation='softmax', name='predictions')(x)\n",
        "\n",
        "# stitch together\n",
        "model = models.Model(inputs= conv_base.input, outputs=x)\n",
        "\n",
        "# data augmentation\n",
        "\n",
        "train_datagen = ImageDataGenerator(\n",
        "    rescale=1./255, \n",
        "    rotation_range=45,\n",
        "    width_shift_range=0.2,\n",
        "    height_shift_range=0.2,\n",
        "    shear_range=0.2,\n",
        "    zoom_range=0.2,\n",
        "    horizontal_flip=True,\n",
        "    vertical_flip=True\n",
        ")\n",
        "\n",
        "train_generator = train_datagen.flow_from_directory(train_dir, target_size=(224, 224), batch_size=20, class_mode='categorical')\n",
        "validation_datagen = ImageDataGenerator(rescale=1./255)\n",
        "validation_generator = validation_datagen.flow_from_directory(validation_dir, target_size=(224, 224), batch_size=20, class_mode='categorical')"
      ],
      "execution_count": 0,
      "outputs": [
        {
          "output_type": "stream",
          "text": [
            "WARNING:tensorflow:From /usr/local/lib/python2.7/dist-packages/tensorflow/python/framework/op_def_library.py:263: colocate_with (from tensorflow.python.framework.ops) is deprecated and will be removed in a future version.\n",
            "Instructions for updating:\n",
            "Colocations handled automatically by placer.\n",
            "WARNING:tensorflow:From /usr/local/lib/python2.7/dist-packages/keras/backend/tensorflow_backend.py:3445: calling dropout (from tensorflow.python.ops.nn_ops) with keep_prob is deprecated and will be removed in a future version.\n",
            "Instructions for updating:\n",
            "Please use `rate` instead of `keep_prob`. Rate should be set to `rate = 1 - keep_prob`.\n",
            "Found 2000 images belonging to 2 classes.\n",
            "Found 1000 images belonging to 2 classes.\n"
          ],
          "name": "stdout"
        }
      ]
    },
    {
      "metadata": {
        "id": "eCPiSIgxdifq",
        "colab_type": "code",
        "colab": {}
      },
      "cell_type": "code",
      "source": [
        "# Fine Tuning\n",
        "conv_base.trainable = True\n",
        "\n",
        "set_trainable = False\n",
        "for layer in conv_base.layers:\n",
        "    if layer.name == 'block5_conv1':\n",
        "        layer.trainable = True\n",
        "    else:\n",
        "        layer.trainable = False"
      ],
      "execution_count": 0,
      "outputs": []
    },
    {
      "metadata": {
        "id": "nCkL00kIdkmi",
        "colab_type": "code",
        "outputId": "34f3ce44-270e-4269-deed-3ae1fec508ed",
        "colab": {
          "base_uri": "https://localhost:8080/",
          "height": 1788
        }
      },
      "cell_type": "code",
      "source": [
        "# compile model\n",
        "model.compile(loss='categorical_crossentropy',optimizer=optimizers.RMSprop(lr=1e-5), metrics=['acc'])\n",
        "\n",
        "# train\n",
        "history = model.fit_generator(train_generator,steps_per_epoch=100,epochs=50,validation_data=validation_generator, validation_steps=50)"
      ],
      "execution_count": 0,
      "outputs": [
        {
          "output_type": "stream",
          "text": [
            "WARNING:tensorflow:From /usr/local/lib/python2.7/dist-packages/tensorflow/python/ops/math_ops.py:3066: to_int32 (from tensorflow.python.ops.math_ops) is deprecated and will be removed in a future version.\n",
            "Instructions for updating:\n",
            "Use tf.cast instead.\n",
            "Epoch 1/50\n",
            "100/100 [==============================] - 39s 388ms/step - loss: 0.7494 - acc: 0.5520 - val_loss: 0.5705 - val_acc: 0.7180\n",
            "Epoch 2/50\n",
            "100/100 [==============================] - 32s 322ms/step - loss: 0.6492 - acc: 0.6450 - val_loss: 0.5329 - val_acc: 0.7210\n",
            "Epoch 3/50\n",
            "100/100 [==============================] - 34s 337ms/step - loss: 0.5638 - acc: 0.6980 - val_loss: 0.4881 - val_acc: 0.7630\n",
            "Epoch 4/50\n",
            "100/100 [==============================] - 32s 323ms/step - loss: 0.5238 - acc: 0.7420 - val_loss: 0.3875 - val_acc: 0.8310\n",
            "Epoch 5/50\n",
            "100/100 [==============================] - 34s 336ms/step - loss: 0.4752 - acc: 0.7650 - val_loss: 0.3315 - val_acc: 0.8590\n",
            "Epoch 6/50\n",
            "100/100 [==============================] - 32s 325ms/step - loss: 0.4501 - acc: 0.7875 - val_loss: 0.2961 - val_acc: 0.8730\n",
            "Epoch 7/50\n",
            "100/100 [==============================] - 32s 325ms/step - loss: 0.4048 - acc: 0.8105 - val_loss: 0.2711 - val_acc: 0.8930\n",
            "Epoch 8/50\n",
            "100/100 [==============================] - 32s 324ms/step - loss: 0.3839 - acc: 0.8245 - val_loss: 0.2454 - val_acc: 0.9070\n",
            "Epoch 9/50\n",
            "100/100 [==============================] - 32s 322ms/step - loss: 0.3737 - acc: 0.8360 - val_loss: 0.2694 - val_acc: 0.8930\n",
            "Epoch 10/50\n",
            "100/100 [==============================] - 34s 344ms/step - loss: 0.3570 - acc: 0.8490 - val_loss: 0.2340 - val_acc: 0.9040\n",
            "Epoch 11/50\n",
            "100/100 [==============================] - 32s 321ms/step - loss: 0.3449 - acc: 0.8470 - val_loss: 0.2404 - val_acc: 0.8950\n",
            "Epoch 12/50\n",
            "100/100 [==============================] - 34s 335ms/step - loss: 0.3268 - acc: 0.8515 - val_loss: 0.2434 - val_acc: 0.8980\n",
            "Epoch 13/50\n",
            "100/100 [==============================] - 32s 322ms/step - loss: 0.3148 - acc: 0.8600 - val_loss: 0.2080 - val_acc: 0.9130\n",
            "Epoch 14/50\n",
            "100/100 [==============================] - 32s 321ms/step - loss: 0.3005 - acc: 0.8720 - val_loss: 0.1978 - val_acc: 0.9240\n",
            "Epoch 15/50\n",
            "100/100 [==============================] - 33s 334ms/step - loss: 0.3148 - acc: 0.8620 - val_loss: 0.1890 - val_acc: 0.9270\n",
            "Epoch 16/50\n",
            "100/100 [==============================] - 32s 319ms/step - loss: 0.3127 - acc: 0.8650 - val_loss: 0.1927 - val_acc: 0.9200\n",
            "Epoch 17/50\n",
            "100/100 [==============================] - 33s 328ms/step - loss: 0.2898 - acc: 0.8780 - val_loss: 0.1802 - val_acc: 0.9340\n",
            "Epoch 18/50\n",
            "100/100 [==============================] - 32s 319ms/step - loss: 0.2934 - acc: 0.8730 - val_loss: 0.1706 - val_acc: 0.9390\n",
            "Epoch 19/50\n",
            "100/100 [==============================] - 32s 320ms/step - loss: 0.2734 - acc: 0.8880 - val_loss: 0.1771 - val_acc: 0.9300\n",
            "Epoch 20/50\n",
            "100/100 [==============================] - 34s 337ms/step - loss: 0.2550 - acc: 0.8860 - val_loss: 0.2366 - val_acc: 0.9000\n",
            "Epoch 21/50\n",
            "100/100 [==============================] - 32s 318ms/step - loss: 0.2536 - acc: 0.8925 - val_loss: 0.1913 - val_acc: 0.9280\n",
            "Epoch 22/50\n",
            "100/100 [==============================] - 33s 330ms/step - loss: 0.2470 - acc: 0.8915 - val_loss: 0.1702 - val_acc: 0.9380\n",
            "Epoch 23/50\n",
            "100/100 [==============================] - 32s 318ms/step - loss: 0.2499 - acc: 0.8945 - val_loss: 0.1717 - val_acc: 0.9400\n",
            "Epoch 24/50\n",
            "100/100 [==============================] - 32s 320ms/step - loss: 0.2521 - acc: 0.8950 - val_loss: 0.1726 - val_acc: 0.9320\n",
            "Epoch 25/50\n",
            "100/100 [==============================] - 33s 332ms/step - loss: 0.2460 - acc: 0.8960 - val_loss: 0.1538 - val_acc: 0.9420\n",
            "Epoch 26/50\n",
            "100/100 [==============================] - 32s 320ms/step - loss: 0.2290 - acc: 0.9000 - val_loss: 0.1685 - val_acc: 0.9360\n",
            "Epoch 27/50\n",
            "100/100 [==============================] - 33s 333ms/step - loss: 0.2281 - acc: 0.9035 - val_loss: 0.1638 - val_acc: 0.9410\n",
            "Epoch 28/50\n",
            "100/100 [==============================] - 32s 320ms/step - loss: 0.2296 - acc: 0.9045 - val_loss: 0.1603 - val_acc: 0.9400\n",
            "Epoch 29/50\n",
            "100/100 [==============================] - 34s 336ms/step - loss: 0.2184 - acc: 0.9005 - val_loss: 0.1721 - val_acc: 0.9340\n",
            "Epoch 30/50\n",
            "100/100 [==============================] - 33s 329ms/step - loss: 0.2034 - acc: 0.9070 - val_loss: 0.1770 - val_acc: 0.9330\n",
            "Epoch 31/50\n",
            "100/100 [==============================] - 33s 325ms/step - loss: 0.2158 - acc: 0.9085 - val_loss: 0.1501 - val_acc: 0.9470\n",
            "Epoch 32/50\n",
            "100/100 [==============================] - 33s 333ms/step - loss: 0.2220 - acc: 0.9095 - val_loss: 0.2744 - val_acc: 0.9000\n",
            "Epoch 33/50\n",
            "100/100 [==============================] - 32s 318ms/step - loss: 0.2155 - acc: 0.9055 - val_loss: 0.1693 - val_acc: 0.9400\n",
            "Epoch 34/50\n",
            "100/100 [==============================] - 32s 319ms/step - loss: 0.1994 - acc: 0.9160 - val_loss: 0.1748 - val_acc: 0.9340\n",
            "Epoch 35/50\n",
            "100/100 [==============================] - 33s 326ms/step - loss: 0.1931 - acc: 0.9125 - val_loss: 0.2300 - val_acc: 0.9150\n",
            "Epoch 36/50\n",
            "100/100 [==============================] - 32s 319ms/step - loss: 0.1887 - acc: 0.9165 - val_loss: 0.2271 - val_acc: 0.9170\n",
            "Epoch 37/50\n",
            "100/100 [==============================] - 33s 333ms/step - loss: 0.1928 - acc: 0.9125 - val_loss: 0.1626 - val_acc: 0.9390\n",
            "Epoch 38/50\n",
            "100/100 [==============================] - 32s 318ms/step - loss: 0.1959 - acc: 0.9120 - val_loss: 0.1400 - val_acc: 0.9470\n",
            "Epoch 39/50\n",
            "100/100 [==============================] - 33s 335ms/step - loss: 0.1764 - acc: 0.9225 - val_loss: 0.1611 - val_acc: 0.9430\n",
            "Epoch 40/50\n",
            "100/100 [==============================] - 33s 330ms/step - loss: 0.1869 - acc: 0.9270 - val_loss: 0.1532 - val_acc: 0.9430\n",
            "Epoch 41/50\n",
            "100/100 [==============================] - 32s 320ms/step - loss: 0.1757 - acc: 0.9310 - val_loss: 0.1545 - val_acc: 0.9430\n",
            "Epoch 42/50\n",
            "100/100 [==============================] - 33s 333ms/step - loss: 0.1734 - acc: 0.9255 - val_loss: 0.1931 - val_acc: 0.9310\n",
            "Epoch 43/50\n",
            "100/100 [==============================] - 32s 318ms/step - loss: 0.1761 - acc: 0.9265 - val_loss: 0.1745 - val_acc: 0.9360\n",
            "Epoch 44/50\n",
            "100/100 [==============================] - 32s 317ms/step - loss: 0.1790 - acc: 0.9220 - val_loss: 0.1554 - val_acc: 0.9430\n",
            "Epoch 45/50\n",
            "100/100 [==============================] - 32s 320ms/step - loss: 0.1761 - acc: 0.9255 - val_loss: 0.1546 - val_acc: 0.9440\n",
            "Epoch 46/50\n",
            "100/100 [==============================] - 32s 316ms/step - loss: 0.1689 - acc: 0.9295 - val_loss: 0.1476 - val_acc: 0.9480\n",
            "Epoch 47/50\n",
            "100/100 [==============================] - 33s 333ms/step - loss: 0.1598 - acc: 0.9345 - val_loss: 0.1855 - val_acc: 0.9370\n",
            "Epoch 48/50\n",
            "100/100 [==============================] - 33s 330ms/step - loss: 0.1665 - acc: 0.9275 - val_loss: 0.1483 - val_acc: 0.9460\n",
            "Epoch 49/50\n",
            "100/100 [==============================] - 32s 318ms/step - loss: 0.1659 - acc: 0.9340 - val_loss: 0.1866 - val_acc: 0.9370\n",
            "Epoch 50/50\n",
            "100/100 [==============================] - 33s 327ms/step - loss: 0.1800 - acc: 0.9315 - val_loss: 0.1536 - val_acc: 0.9490\n"
          ],
          "name": "stdout"
        }
      ]
    },
    {
      "metadata": {
        "id": "j7cAcF_pT6TJ",
        "colab_type": "text"
      },
      "cell_type": "markdown",
      "source": [
        "# Visualization"
      ]
    },
    {
      "metadata": {
        "id": "hauH7GqRdni6",
        "colab_type": "code",
        "outputId": "15dcbd6f-39f1-430e-ae7f-30ec7a3466a8",
        "colab": {
          "base_uri": "https://localhost:8080/",
          "height": 545
        }
      },
      "cell_type": "code",
      "source": [
        "acc = history.history['acc']\n",
        "val_acc = history.history['val_acc']\n",
        "\n",
        "loss = history.history['loss']\n",
        "val_loss = history.history['val_loss']\n",
        "\n",
        "epochs = range(1, len(acc) + 1)\n",
        "\n",
        "# training and validation accuracy\n",
        "\n",
        "plt.plot(epochs, acc, 'go', label='training acc')\n",
        "plt.plot(epochs, val_acc, 'g', label='validation acc')\n",
        "plt.title('training and validation accuracy')\n",
        "plt.legend()\n",
        "\n",
        "plt.figure()\n",
        "\n",
        "# training and validation loss\n",
        "\n",
        "plt.plot(epochs, loss, 'ro', label='training loss')\n",
        "plt.plot(epochs, val_loss, 'r', label='validation loss')\n",
        "plt.title('training and validation loss')\n",
        "plt.legend()\n",
        "\n",
        "plt.show()"
      ],
      "execution_count": 0,
      "outputs": [
        {
          "output_type": "display_data",
          "data": {
            "image/png": "[encoded data removed]",
            "text/plain": [
              "<Figure size 432x288 with 1 Axes>"
            ]
          },
          "metadata": {
            "tags": []
          }
        },
        {
          "output_type": "display_data",
          "data": {
            "image/png": "[encoded data removed]",
            "text/plain": [
              "<Figure size 432x288 with 1 Axes>"
            ]
          },
          "metadata": {
            "tags": []
          }
        }
      ]
    },
    {
      "metadata": {
        "id": "5Ej-qTeFT-xi",
        "colab_type": "text"
      },
      "cell_type": "markdown",
      "source": [
        "# Evaluating the model\n",
        "From the result we can see that accuracy has been improved comparing to the last model(without fine tuning)."
      ]
    },
    {
      "metadata": {
        "id": "ktVJlZfFdpsB",
        "colab_type": "code",
        "outputId": "d08f2426-d967-4c99-d81b-2d6f121a0555",
        "colab": {
          "base_uri": "https://localhost:8080/",
          "height": 51
        }
      },
      "cell_type": "code",
      "source": [
        "val_loss, val_acc = model.evaluate_generator(validation_generator, steps=50)\n",
        "print(\"Validation loss:\", val_loss)\n",
        "print(\"Validation accuracy:\", val_acc)"
      ],
      "execution_count": 0,
      "outputs": [
        {
          "output_type": "stream",
          "text": [
            "('Validation loss:', 0.16169318202417343)\n",
            "('Validation accuracy:', 0.9479999911785125)\n"
          ],
          "name": "stdout"
        }
      ]
    },
    {
      "metadata": {
        "id": "uKmehfDrUPXW",
        "colab_type": "text"
      },
      "cell_type": "markdown",
      "source": [
        "# Saving the model\n",
        "I saved the model to my google drive (it was too big to upload on github)."
      ]
    },
    {
      "metadata": {
        "id": "w7B5U7NffH47",
        "colab_type": "code",
        "colab": {}
      },
      "cell_type": "code",
      "source": [
        "model_fname = 'VGG19-Finetuned-Cats_and_Dogs.h5' \n",
        "model.save(model_fname)"
      ],
      "execution_count": 0,
      "outputs": []
    },
    {
      "metadata": {
        "id": "Oaxoya_qfVIc",
        "colab_type": "code",
        "colab": {}
      },
      "cell_type": "code",
      "source": [
        "from google.colab import files\n",
        "\n",
        "with open(model_fname, 'r') as f:\n",
        "  files.download(model_fname)"
      ],
      "execution_count": 0,
      "outputs": []
    }
  ]
}