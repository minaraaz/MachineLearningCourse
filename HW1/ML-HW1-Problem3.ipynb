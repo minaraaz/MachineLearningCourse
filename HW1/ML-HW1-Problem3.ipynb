{
 "cells": [
  {
   "cell_type": "code",
   "execution_count": 1,
   "metadata": {},
   "outputs": [
    {
     "name": "stderr",
     "output_type": "stream",
     "text": [
      "Using TensorFlow backend.\n"
     ]
    }
   ],
   "source": [
    "import numpy as np\n",
    "from keras.datasets import mnist"
   ]
  },
  {
   "cell_type": "code",
   "execution_count": 2,
   "metadata": {},
   "outputs": [],
   "source": [
    "# data load\n",
    "(train_images_original, train_labels_original), (test_images_original, test_labels_original) = mnist.load_data()"
   ]
  },
  {
   "cell_type": "code",
   "execution_count": 3,
   "metadata": {},
   "outputs": [],
   "source": [
    "# data reshape and black and white\n",
    "train_images = train_images_original.reshape((60000, 28 * 28))\n",
    "train_images = train_images.astype('float32') / 255.0\n",
    "\n",
    "test_images = test_images_original.reshape((10000, 28 * 28))\n",
    "test_images = test_images.astype('float32') / 255.0\n",
    "\n",
    "train_labels = (np.arange(np.max(train_labels_original) + 1) == train_labels_original[:, None]).astype(float)\n",
    "test_labels = (np.arange(np.max(test_labels_original) + 1) == test_labels_original[:, None]).astype(float)"
   ]
  },
  {
   "cell_type": "code",
   "execution_count": 4,
   "metadata": {},
   "outputs": [],
   "source": [
    "# initial variables\n",
    "batch_size = 600\n",
    "epochs = 100\n",
    "learning_rate = 0.1\n",
    "m = 10\n",
    "data_size = train_images.shape[0]\n",
    "dimension = train_images.shape[1]\n",
    "digit_classifier = []\n",
    "models_train_accuracy = []\n",
    "models_test_accuracy = []\n",
    "predicted_labels_train = np.zeros((1,train_labels_original.shape[0]))\n",
    "predicted_labels_test = np.zeros((1,test_labels_original.shape[0]))"
   ]
  },
  {
   "cell_type": "code",
   "execution_count": 5,
   "metadata": {},
   "outputs": [],
   "source": [
    "class softmax_classifier:\n",
    "    \n",
    "    def __init__(self, batch_size, dimension, m, learning_rate):\n",
    "        self.weight = np.zeros((dimension, m))\n",
    "        self.bias = np.zeros((m, 1))\n",
    "        self.dimension = dimension\n",
    "        self.learning_rate = learning_rate\n",
    "        self.batch_size = batch_size\n",
    "        self.num_class = m\n",
    "    \n",
    "    def softmax(self, z):\n",
    "        z = z - np.max(z, axis=0)\n",
    "        s = np.exp(z)/np.sum(np.exp(z), axis=0)\n",
    "        return s\n",
    "\n",
    "    def backward(self, X, Y):\n",
    "        z = np.dot(self.weight.T,X) + self.bias\n",
    "        A = self.softmax(z)\n",
    "        A = np.repeat(A[np.newaxis], self.num_class, axis = 0) - np.repeat(np.identity(self.num_class)[:,:, np.newaxis], self.batch_size, axis=2)\n",
    "        YA = np.repeat(Y.T[:, np.newaxis], self.num_class, axis = 1) * A\n",
    "        YA = np.sum(YA, axis=0)\n",
    "\n",
    "        gradient_weight = 1.0/self.batch_size * np.dot(X, YA.T)\n",
    "        gradient_bias = 1.0/self.batch_size * np.sum(YA, axis=1,keepdims=True)\n",
    "\n",
    "        return gradient_weight, gradient_bias\n",
    "    \n",
    "    def update(self, X, Y):\n",
    "        X = X.transpose()\n",
    "        gradient_weight, gradient_bias = self.backward(X, Y)\n",
    "\n",
    "        self.weight = self.weight - self.learning_rate * gradient_weight\n",
    "        self.bias = self.bias - self.learning_rate * gradient_bias\n",
    "\n",
    "\n",
    "    def predict (self, X):\n",
    "        X = X.transpose()\n",
    "        A = self.softmax(np.dot(self.weight.T, X) + self.bias)\n",
    "        \n",
    "        return A"
   ]
  },
  {
   "cell_type": "code",
   "execution_count": 6,
   "metadata": {},
   "outputs": [],
   "source": [
    "# creating 10 classifiers\n",
    "digit_classifier = softmax_classifier(batch_size, dimension, m, learning_rate)"
   ]
  },
  {
   "cell_type": "code",
   "execution_count": 7,
   "metadata": {},
   "outputs": [
    {
     "name": "stdout",
     "output_type": "stream",
     "text": [
      "epoch 0 ====> train accuracy: 85.9533 ====> test accuracy: 86.9900\n",
      "epoch 1 ====> train accuracy: 87.7850 ====> test accuracy: 88.5900\n",
      "epoch 2 ====> train accuracy: 88.5383 ====> test accuracy: 89.1200\n",
      "epoch 3 ====> train accuracy: 89.0467 ====> test accuracy: 89.7000\n",
      "epoch 4 ====> train accuracy: 89.5033 ====> test accuracy: 90.1200\n",
      "epoch 5 ====> train accuracy: 89.7183 ====> test accuracy: 90.3500\n",
      "epoch 6 ====> train accuracy: 90.0150 ====> test accuracy: 90.5600\n",
      "epoch 7 ====> train accuracy: 90.1500 ====> test accuracy: 90.6900\n",
      "epoch 8 ====> train accuracy: 90.2667 ====> test accuracy: 90.8600\n",
      "epoch 9 ====> train accuracy: 90.3650 ====> test accuracy: 90.9600\n",
      "epoch 10 ====> train accuracy: 90.5083 ====> test accuracy: 91.1100\n",
      "epoch 11 ====> train accuracy: 90.6683 ====> test accuracy: 91.2300\n",
      "epoch 12 ====> train accuracy: 90.7467 ====> test accuracy: 91.2500\n",
      "epoch 13 ====> train accuracy: 90.8800 ====> test accuracy: 91.3600\n",
      "epoch 14 ====> train accuracy: 90.9150 ====> test accuracy: 91.4500\n",
      "epoch 15 ====> train accuracy: 91.0383 ====> test accuracy: 91.5200\n",
      "epoch 16 ====> train accuracy: 91.0517 ====> test accuracy: 91.5100\n"
     ]
    },
    {
     "ename": "KeyboardInterrupt",
     "evalue": "",
     "output_type": "error",
     "traceback": [
      "\u001b[0;31m---------------------------------------------------------------------------\u001b[0m",
      "\u001b[0;31mKeyboardInterrupt\u001b[0m                         Traceback (most recent call last)",
      "\u001b[0;32m<ipython-input-7-35a3b7719ec0>\u001b[0m in \u001b[0;36m<module>\u001b[0;34m()\u001b[0m\n\u001b[1;32m     13\u001b[0m \u001b[0;34m\u001b[0m\u001b[0m\n\u001b[1;32m     14\u001b[0m         \u001b[0mpredicted_labels_train\u001b[0m \u001b[0;34m=\u001b[0m \u001b[0mnp\u001b[0m\u001b[0;34m.\u001b[0m\u001b[0msqueeze\u001b[0m\u001b[0;34m(\u001b[0m\u001b[0mnp\u001b[0m\u001b[0;34m.\u001b[0m\u001b[0margmax\u001b[0m\u001b[0;34m(\u001b[0m\u001b[0mdigit_classifier\u001b[0m\u001b[0;34m.\u001b[0m\u001b[0mpredict\u001b[0m\u001b[0;34m(\u001b[0m\u001b[0mtrain_images\u001b[0m\u001b[0;34m)\u001b[0m\u001b[0;34m,\u001b[0m \u001b[0maxis\u001b[0m \u001b[0;34m=\u001b[0m \u001b[0;36m0\u001b[0m\u001b[0;34m)\u001b[0m\u001b[0;34m)\u001b[0m\u001b[0;34m\u001b[0m\u001b[0m\n\u001b[0;32m---> 15\u001b[0;31m         \u001b[0mpredicted_labels_test\u001b[0m \u001b[0;34m=\u001b[0m \u001b[0mnp\u001b[0m\u001b[0;34m.\u001b[0m\u001b[0msqueeze\u001b[0m\u001b[0;34m(\u001b[0m\u001b[0mnp\u001b[0m\u001b[0;34m.\u001b[0m\u001b[0margmax\u001b[0m\u001b[0;34m(\u001b[0m\u001b[0mdigit_classifier\u001b[0m\u001b[0;34m.\u001b[0m\u001b[0mpredict\u001b[0m\u001b[0;34m(\u001b[0m\u001b[0mtest_images\u001b[0m\u001b[0;34m)\u001b[0m\u001b[0;34m,\u001b[0m \u001b[0maxis\u001b[0m \u001b[0;34m=\u001b[0m \u001b[0;36m0\u001b[0m\u001b[0;34m)\u001b[0m\u001b[0;34m)\u001b[0m\u001b[0;34m\u001b[0m\u001b[0m\n\u001b[0m\u001b[1;32m     16\u001b[0m \u001b[0;34m\u001b[0m\u001b[0m\n\u001b[1;32m     17\u001b[0m         \u001b[0mtrain_accuracy\u001b[0m \u001b[0;34m=\u001b[0m \u001b[0mnp\u001b[0m\u001b[0;34m.\u001b[0m\u001b[0mmean\u001b[0m\u001b[0;34m(\u001b[0m\u001b[0;34m[\u001b[0m\u001b[0mint\u001b[0m\u001b[0;34m(\u001b[0m\u001b[0mi\u001b[0m\u001b[0;34m==\u001b[0m\u001b[0mj\u001b[0m\u001b[0;34m)\u001b[0m \u001b[0;32mfor\u001b[0m \u001b[0mi\u001b[0m\u001b[0;34m,\u001b[0m \u001b[0mj\u001b[0m \u001b[0;32min\u001b[0m \u001b[0mzip\u001b[0m\u001b[0;34m(\u001b[0m\u001b[0mpredicted_labels_train\u001b[0m\u001b[0;34m,\u001b[0m \u001b[0mtrain_labels_original\u001b[0m\u001b[0;34m)\u001b[0m\u001b[0;34m]\u001b[0m\u001b[0;34m)\u001b[0m \u001b[0;34m*\u001b[0m \u001b[0;36m100.0\u001b[0m\u001b[0;34m\u001b[0m\u001b[0m\n",
      "\u001b[0;32m<ipython-input-5-3937e0e9b854>\u001b[0m in \u001b[0;36mpredict\u001b[0;34m(self, X)\u001b[0m\n\u001b[1;32m     36\u001b[0m     \u001b[0;32mdef\u001b[0m \u001b[0mpredict\u001b[0m \u001b[0;34m(\u001b[0m\u001b[0mself\u001b[0m\u001b[0;34m,\u001b[0m \u001b[0mX\u001b[0m\u001b[0;34m)\u001b[0m\u001b[0;34m:\u001b[0m\u001b[0;34m\u001b[0m\u001b[0m\n\u001b[1;32m     37\u001b[0m         \u001b[0mX\u001b[0m \u001b[0;34m=\u001b[0m \u001b[0mX\u001b[0m\u001b[0;34m.\u001b[0m\u001b[0mtranspose\u001b[0m\u001b[0;34m(\u001b[0m\u001b[0;34m)\u001b[0m\u001b[0;34m\u001b[0m\u001b[0m\n\u001b[0;32m---> 38\u001b[0;31m         \u001b[0mA\u001b[0m \u001b[0;34m=\u001b[0m \u001b[0mself\u001b[0m\u001b[0;34m.\u001b[0m\u001b[0msoftmax\u001b[0m\u001b[0;34m(\u001b[0m\u001b[0mnp\u001b[0m\u001b[0;34m.\u001b[0m\u001b[0mdot\u001b[0m\u001b[0;34m(\u001b[0m\u001b[0mself\u001b[0m\u001b[0;34m.\u001b[0m\u001b[0mweight\u001b[0m\u001b[0;34m.\u001b[0m\u001b[0mT\u001b[0m\u001b[0;34m,\u001b[0m \u001b[0mX\u001b[0m\u001b[0;34m)\u001b[0m \u001b[0;34m+\u001b[0m \u001b[0mself\u001b[0m\u001b[0;34m.\u001b[0m\u001b[0mbias\u001b[0m\u001b[0;34m)\u001b[0m\u001b[0;34m\u001b[0m\u001b[0m\n\u001b[0m\u001b[1;32m     39\u001b[0m \u001b[0;34m\u001b[0m\u001b[0m\n\u001b[1;32m     40\u001b[0m         \u001b[0;32mreturn\u001b[0m \u001b[0mA\u001b[0m\u001b[0;34m\u001b[0m\u001b[0m\n",
      "\u001b[0;31mKeyboardInterrupt\u001b[0m: "
     ]
    }
   ],
   "source": [
    "# training classifiers\n",
    "for epoch in range(epochs):\n",
    "        Y_train_dic = []\n",
    "        Y_test_dic = []\n",
    "        shuffled_indices = np.random.permutation(data_size)\n",
    "        train_images_shuffled = train_images[shuffled_indices]\n",
    "        train_labels_shuffled = train_labels[shuffled_indices]\n",
    "\n",
    "        for i in range(0, data_size, batch_size):\n",
    "                xi = train_images_shuffled[i : i + batch_size]\n",
    "                yi = train_labels_shuffled[i : i + batch_size]\n",
    "                digit_classifier.update(xi,yi)\n",
    "        \n",
    "        predicted_labels_train = np.squeeze(np.argmax(digit_classifier.predict(train_images), axis = 0))\n",
    "        predicted_labels_test = np.squeeze(np.argmax(digit_classifier.predict(test_images), axis = 0))\n",
    "\n",
    "        train_accuracy = np.mean([int(i==j) for i, j in zip(predicted_labels_train, train_labels_original)]) * 100.0\n",
    "        models_train_accuracy.append(train_accuracy)\n",
    "        \n",
    "        test_accuracy = np.mean([int(i==j) for i, j in zip(predicted_labels_test, test_labels_original)]) * 100.0\n",
    "        models_test_accuracy.append(test_accuracy)\n",
    "\n",
    "        print \"epoch \" + str(epoch) + \" ====> train accuracy: {0:0.4f} ====> test accuracy: {1:0.4f}\".format(train_accuracy, test_accuracy)"
   ]
  }
 ],
 "metadata": {
  "kernelspec": {
   "display_name": "Python 2",
   "language": "python",
   "name": "python2"
  },
  "language_info": {
   "codemirror_mode": {
    "name": "ipython",
    "version": 2
   },
   "file_extension": ".py",
   "mimetype": "text/x-python",
   "name": "python",
   "nbconvert_exporter": "python",
   "pygments_lexer": "ipython2",
   "version": "2.7.12"
  }
 },
 "nbformat": 4,
 "nbformat_minor": 2
}
