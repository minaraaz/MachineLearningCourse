{
 "cells": [
  {
   "cell_type": "code",
   "execution_count": 1,
   "metadata": {},
   "outputs": [
    {
     "name": "stderr",
     "output_type": "stream",
     "text": [
      "Using TensorFlow backend.\n"
     ]
    }
   ],
   "source": [
    "from __future__ import print_function\n",
    "import keras\n",
    "from keras.datasets import mnist\n",
    "from keras import models\n",
    "from keras import layers\n",
    "from keras.utils import to_categorical"
   ]
  },
  {
   "cell_type": "code",
   "execution_count": 2,
   "metadata": {},
   "outputs": [],
   "source": [
    "batch_size = 128\n",
    "num_classes = 10\n",
    "epochs = 12\n",
    "\n",
    "# input image dimensions\n",
    "img_rows, img_cols = 28, 28"
   ]
  },
  {
   "cell_type": "code",
   "execution_count": 3,
   "metadata": {},
   "outputs": [],
   "source": [
    "# the data, split between train and test sets\n",
    "(train_images_original, train_labels_original), (test_images_original, test_labels_original) = mnist.load_data()\n",
    "\n",
    "train_images = train_images_original.reshape((60000, 28 * 28))\n",
    "train_images = train_images.astype('float32') / 255\n",
    "\n",
    "test_images = test_images_original.reshape((10000, 28 * 28))\n",
    "test_images = test_images.astype('float32') / 255\n",
    "\n",
    "train_labels = to_categorical(train_labels_original)\n",
    "test_labels = to_categorical(test_labels_original)"
   ]
  },
  {
   "cell_type": "code",
   "execution_count": 4,
   "metadata": {},
   "outputs": [
    {
     "name": "stdout",
     "output_type": "stream",
     "text": [
      "Train on 60000 samples, validate on 10000 samples\n",
      "Epoch 1/12\n",
      "60000/60000 [==============================] - 2s 29us/step - loss: 0.2555 - acc: 0.9262 - val_loss: 0.1337 - val_acc: 0.9576\n",
      "Epoch 2/12\n",
      "60000/60000 [==============================] - 1s 18us/step - loss: 0.1033 - acc: 0.9692 - val_loss: 0.0837 - val_acc: 0.9744\n",
      "Epoch 3/12\n",
      "60000/60000 [==============================] - 1s 18us/step - loss: 0.0680 - acc: 0.9793 - val_loss: 0.0779 - val_acc: 0.9760\n",
      "Epoch 4/12\n",
      "60000/60000 [==============================] - 1s 18us/step - loss: 0.0488 - acc: 0.9854 - val_loss: 0.0708 - val_acc: 0.9778\n",
      "Epoch 5/12\n",
      "60000/60000 [==============================] - 1s 18us/step - loss: 0.0367 - acc: 0.9886 - val_loss: 0.0602 - val_acc: 0.9818\n",
      "Epoch 6/12\n",
      "60000/60000 [==============================] - 1s 18us/step - loss: 0.0279 - acc: 0.9917 - val_loss: 0.0679 - val_acc: 0.9811\n",
      "Epoch 7/12\n",
      "60000/60000 [==============================] - 1s 17us/step - loss: 0.0215 - acc: 0.9938 - val_loss: 0.0778 - val_acc: 0.9781\n",
      "Epoch 8/12\n",
      "60000/60000 [==============================] - 1s 18us/step - loss: 0.0164 - acc: 0.9954 - val_loss: 0.0673 - val_acc: 0.9795\n",
      "Epoch 9/12\n",
      "60000/60000 [==============================] - 1s 18us/step - loss: 0.0122 - acc: 0.9965 - val_loss: 0.0806 - val_acc: 0.9790\n",
      "Epoch 10/12\n",
      "60000/60000 [==============================] - 1s 17us/step - loss: 0.0098 - acc: 0.9970 - val_loss: 0.0731 - val_acc: 0.9806\n",
      "Epoch 11/12\n",
      "60000/60000 [==============================] - 1s 18us/step - loss: 0.0072 - acc: 0.9980 - val_loss: 0.0687 - val_acc: 0.9828\n",
      "Epoch 12/12\n",
      "60000/60000 [==============================] - 1s 17us/step - loss: 0.0057 - acc: 0.9985 - val_loss: 0.0774 - val_acc: 0.9793\n",
      "Test loss: 0.07739592331980985\n",
      "Test accuracy: 0.9793\n"
     ]
    }
   ],
   "source": [
    "network = models.Sequential()\n",
    "network.add(layers.Dense(512, activation='relu', input_shape=(28 * 28,)))\n",
    "network.add(layers.Dense(10, activation='softmax'))\n",
    "\n",
    "network.compile(optimizer='rmsprop',\n",
    "                loss='categorical_crossentropy',\n",
    "                metrics=['accuracy'])\n",
    "\n",
    "\n",
    "history = network.fit(train_images, \n",
    "                      train_labels, \n",
    "                      epochs=epochs, \n",
    "                      batch_size=128, \n",
    "                      validation_data=(test_images, test_labels))\n",
    "\n",
    "score = network.evaluate(test_images, test_labels, verbose=0)\n",
    "print('Test loss:', score[0])\n",
    "print('Test accuracy:', score[1])"
   ]
  }
 ],
 "metadata": {
  "kernelspec": {
   "display_name": "Python 2",
   "language": "python",
   "name": "python2"
  },
  "language_info": {
   "codemirror_mode": {
    "name": "ipython",
    "version": 2
   },
   "file_extension": ".py",
   "mimetype": "text/x-python",
   "name": "python",
   "nbconvert_exporter": "python",
   "pygments_lexer": "ipython2",
   "version": "2.7.12"
  }
 },
 "nbformat": 4,
 "nbformat_minor": 2
}
