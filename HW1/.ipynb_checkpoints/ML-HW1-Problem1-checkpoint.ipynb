{
 "cells": [
  {
   "cell_type": "markdown",
   "metadata": {},
   "source": [
    "Here is the code for Problem 1, in this code, I have defined a class with the main functions (updating the weights and bias, train and predict) and then made 10 instances of the class as my digit classifiers. You can see the results at the bottom. I used Sigmoid as the activation function and Squared Error Loss function."
   ]
  },
  {
   "cell_type": "code",
   "execution_count": 4,
   "metadata": {},
   "outputs": [],
   "source": [
    "import numpy as np\n",
    "from keras.datasets import mnist\n",
    "import matplotlib.pyplot as plt"
   ]
  },
  {
   "cell_type": "code",
   "execution_count": 5,
   "metadata": {},
   "outputs": [],
   "source": [
    "# data load\n",
    "(train_images_original, train_labels_original), (test_images_original, test_labels_original) = mnist.load_data()"
   ]
  },
  {
   "cell_type": "code",
   "execution_count": 6,
   "metadata": {},
   "outputs": [],
   "source": [
    "# data reshape and black and white\n",
    "train_images = train_images_original.reshape((60000, 28 * 28))\n",
    "train_images = train_images.astype('float32') / 255.0\n",
    "\n",
    "test_images = test_images_original.reshape((10000, 28 * 28))\n",
    "test_images = test_images.astype('float32') / 255.0"
   ]
  },
  {
   "cell_type": "code",
   "execution_count": 7,
   "metadata": {},
   "outputs": [],
   "source": [
    "# initial variables\n",
    "batch_size = 600\n",
    "epochs = 20\n",
    "learning_rate = 1\n",
    "data_size = train_images.shape[0]\n",
    "dimension = train_images.shape[1]\n",
    "digit_classifiers = []\n",
    "models_train_accuracy = []\n",
    "models_test_accuracy = []\n",
    "predicted_labels_train = np.zeros((1,train_labels_original.shape[0]))\n",
    "predicted_labels_test = np.zeros((1,test_labels_original.shape[0]))"
   ]
  },
  {
   "cell_type": "code",
   "execution_count": 8,
   "metadata": {},
   "outputs": [],
   "source": [
    "class classifier2:\n",
    "    \n",
    "    def __init__(self, number, batch_size, dimension, learning_rate,train_labels_original,test_labels_original):\n",
    "        self.number=number\n",
    "        self.weight = np.zeros((dimension, 1))\n",
    "        self.bias = 0\n",
    "        self.dimension = dimension\n",
    "        self.learning_rate = learning_rate\n",
    "        self.batch_size = batch_size\n",
    "        self.Label_train_binary = [1 if a == number else 0 for a in train_labels_original]\n",
    "        self.Label_test_binary = [1 if a == number else 0 for a in test_labels_original]\n",
    "        self.Label_train_binary = np.asarray(self.Label_train_binary)\n",
    "        self.Label_test_binary = np.asarray(self.Label_test_binary)\n",
    "        self.train_labels_shuffled = np.zeros((1,train_labels_original.shape[0]))\n",
    "    \n",
    "    def sigmoid(self, z):\n",
    "        s = 1.0/(1.0 + np.exp(-z))\n",
    "        return s\n",
    "    \n",
    "    def backward(self, X, Y):\n",
    "        z = np.dot(self.weight.T,X) + self.bias\n",
    "        A = self.sigmoid(z)\n",
    "\n",
    "        gradient_weight = 1.0/self.batch_size * np.dot(X, ((A-Y)*A*(1-A)).T)\n",
    "        gradient_bias = 1.0/self.batch_size * np.sum(((A-Y)*A*(1-A)))\n",
    "\n",
    "        return gradient_weight, gradient_bias\n",
    "    \n",
    "    def update(self, X, Y):\n",
    "        X = X.transpose()\n",
    "        gradient_weight, gradient_bias = self.backward(X, Y)\n",
    "\n",
    "        self.weight = self.weight - self.learning_rate * gradient_weight\n",
    "        self.bias = self.bias - self.learning_rate * gradient_bias\n",
    "\n",
    "\n",
    "    def predict (self, X):\n",
    "        Y_prediction = np.zeros((1,X.shape[0]))\n",
    "        X = X.transpose()\n",
    "\n",
    "        A = self.sigmoid(np.dot(self.weight.T, X) + self.bias)\n",
    "        \n",
    "        return A\n",
    "    \n",
    "    def Label_shuffle(self, shuffled_indices):\n",
    "        self.train_labels_shuffled = self.Label_train_binary[shuffled_indices]\n",
    "\n",
    "    def train(self, i, xi):\n",
    "        yi = self.train_labels_shuffled[i : i + self.batch_size]\n",
    "        self.update(xi,yi)"
   ]
  },
  {
   "cell_type": "code",
   "execution_count": 9,
   "metadata": {},
   "outputs": [],
   "source": [
    "# creating 10 classifiers\n",
    "for digit in range(10):\n",
    "        digit_classifiers.append(classifier2(digit, batch_size, dimension, learning_rate,train_labels_original,test_labels_original))"
   ]
  },
  {
   "cell_type": "code",
   "execution_count": 10,
   "metadata": {},
   "outputs": [
    {
     "name": "stdout",
     "output_type": "stream",
     "text": [
      "epoch 0 ====> train accuracy: 86.4967 ====> test accuracy: 87.4100\n",
      "epoch 1 ====> train accuracy: 87.8183 ====> test accuracy: 88.8400\n",
      "epoch 2 ====> train accuracy: 88.6517 ====> test accuracy: 89.4000\n",
      "epoch 3 ====> train accuracy: 89.0333 ====> test accuracy: 89.8100\n",
      "epoch 4 ====> train accuracy: 89.3233 ====> test accuracy: 90.1000\n",
      "epoch 5 ====> train accuracy: 89.5400 ====> test accuracy: 90.5300\n",
      "epoch 6 ====> train accuracy: 89.7517 ====> test accuracy: 90.5200\n",
      "epoch 7 ====> train accuracy: 89.8550 ====> test accuracy: 90.6300\n",
      "epoch 8 ====> train accuracy: 90.0317 ====> test accuracy: 90.8200\n",
      "epoch 9 ====> train accuracy: 90.1100 ====> test accuracy: 90.8700\n",
      "epoch 10 ====> train accuracy: 90.2833 ====> test accuracy: 91.0900\n",
      "epoch 11 ====> train accuracy: 90.3917 ====> test accuracy: 91.1800\n",
      "epoch 12 ====> train accuracy: 90.4167 ====> test accuracy: 91.2100\n",
      "epoch 13 ====> train accuracy: 90.5267 ====> test accuracy: 91.2700\n",
      "epoch 14 ====> train accuracy: 90.6050 ====> test accuracy: 91.3300\n",
      "epoch 15 ====> train accuracy: 90.6633 ====> test accuracy: 91.3500\n",
      "epoch 16 ====> train accuracy: 90.6867 ====> test accuracy: 91.2700\n",
      "epoch 17 ====> train accuracy: 90.7750 ====> test accuracy: 91.3300\n",
      "epoch 18 ====> train accuracy: 90.8433 ====> test accuracy: 91.4400\n",
      "epoch 19 ====> train accuracy: 90.8367 ====> test accuracy: 91.3500\n"
     ]
    }
   ],
   "source": [
    "# training classifiers\n",
    "for epoch in range(epochs):\n",
    "        Y_train_dic = []\n",
    "        Y_test_dic = []\n",
    "        shuffled_indices = np.random.permutation(data_size)\n",
    "        train_images_shuffled = train_images[shuffled_indices]\n",
    "        for digit in range(10):\n",
    "                digit_classifiers[digit].Label_shuffle(shuffled_indices)\n",
    "        for i in range(0, data_size, batch_size):\n",
    "                xi = train_images_shuffled[i : i + batch_size]\n",
    "                for digit in range(10):\n",
    "                        digit_classifiers[digit].train(i,xi)\n",
    "        \n",
    "        for digit in range(10):\n",
    "                Y_train_dic.append(digit_classifiers[digit].predict(train_images))\n",
    "                Y_test_dic.append(digit_classifiers[digit].predict(test_images))\n",
    "\n",
    "        predicted_labels_train = np.squeeze(np.argmax(Y_train_dic, axis = 0))\n",
    "        predicted_labels_test = np.squeeze(np.argmax(Y_test_dic, axis = 0))\n",
    "\n",
    "        train_accuracy = np.mean([int(i==j) for i, j in zip(predicted_labels_train, train_labels_original)]) * 100.0\n",
    "        models_train_accuracy.append(train_accuracy)\n",
    "        \n",
    "        test_accuracy = np.mean([int(i==j) for i, j in zip(predicted_labels_test, test_labels_original)]) * 100.0\n",
    "        models_test_accuracy.append(test_accuracy)\n",
    "\n",
    "        print \"epoch \" + str(epoch) + \" ====> train accuracy: {0:0.4f} ====> test accuracy: {1:0.4f}\".format(train_accuracy, test_accuracy)"
   ]
  },
  {
   "cell_type": "code",
   "execution_count": 11,
   "metadata": {},
   "outputs": [
    {
     "data": {
      "image/png": "[encoded data removed]",
      "text/plain": [
       "<Figure size 432x288 with 1 Axes>"
      ]
     },
     "metadata": {
      "needs_background": "light"
     },
     "output_type": "display_data"
    }
   ],
   "source": [
    "plt.plot(range(epochs), models_train_accuracy)\n",
    "plt.plot(range(epochs), models_test_accuracy)\n",
    "plt.xlabel(\"Epochs\")\n",
    "plt.ylabel(\"Accuracy\")\n",
    "plt.legend(['Train', 'Test'], loc='upper left')\n",
    "plt.ylim(top = 100)\n",
    "plt.xlim(0,20)\n",
    "plt.show()"
   ]
  },
  {
   "cell_type": "code",
   "execution_count": null,
   "metadata": {},
   "outputs": [],
   "source": []
  }
 ],
 "metadata": {
  "kernelspec": {
   "display_name": "Python 2",
   "language": "python",
   "name": "python2"
  },
  "language_info": {
   "codemirror_mode": {
    "name": "ipython",
    "version": 2
   },
   "file_extension": ".py",
   "mimetype": "text/x-python",
   "name": "python",
   "nbconvert_exporter": "python",
   "pygments_lexer": "ipython2",
   "version": "2.7.12"
  }
 },
 "nbformat": 4,
 "nbformat_minor": 2
}
