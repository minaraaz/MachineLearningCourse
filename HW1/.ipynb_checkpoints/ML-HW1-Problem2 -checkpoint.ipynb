{
 "cells": [
  {
   "cell_type": "code",
   "execution_count": 1,
   "metadata": {},
   "outputs": [
    {
     "name": "stderr",
     "output_type": "stream",
     "text": [
      "Using TensorFlow backend.\n"
     ]
    }
   ],
   "source": [
    "import numpy as np\n",
    "from keras.datasets import mnist"
   ]
  },
  {
   "cell_type": "code",
   "execution_count": 2,
   "metadata": {},
   "outputs": [],
   "source": [
    "(train_images_original, train_labels_original), (test_images_original, test_labels_original) = mnist.load_data()\n",
    "\n",
    "train_images = train_images_original.reshape((60000, 28 * 28))\n",
    "train_images = train_images.astype('float32') / 255.0\n",
    "\n",
    "\n",
    "test_images = test_images_original.reshape((10000, 28 * 28))\n",
    "test_images = test_images.astype('float32') / 255.0"
   ]
  },
  {
   "cell_type": "code",
   "execution_count": 3,
   "metadata": {},
   "outputs": [],
   "source": [
    "class classifier:\n",
    "    \n",
    "    def __init__(self, number, batch_size, dimension, learning_rate):\n",
    "        self.number=number\n",
    "        self.weight = np.zeros((dimension, 1))\n",
    "        self.bias = 0\n",
    "        self.dimension = dimension\n",
    "        self.learning_rate = learning_rate\n",
    "        self.batch_size = batch_size\n",
    "    \n",
    "    def sigmoid(self, z):\n",
    "        s = 1.0/(1.0 + np.exp(-z))\n",
    "        return s\n",
    "    \n",
    "    def backward(self, X, Y):\n",
    "        z = np.dot(self.weight.T,X) + self.bias\n",
    "        A = self.sigmoid(z)\n",
    "\n",
    "        gradient_weight = 1.0/self.batch_size * np.dot(X, (A-Y).T)\n",
    "        gradient_bias = 1.0/self.batch_size * np.sum(A-Y)\n",
    "\n",
    "        return gradient_weight, gradient_bias\n",
    "    \n",
    "    def update(self, X, Y):\n",
    "        X = X.transpose()\n",
    "        gradient_weight, gradient_bias = self.backward(X, Y)\n",
    "\n",
    "        self.weight = self.weight - self.learning_rate * gradient_weight\n",
    "        self.bias = self.bias - self.learning_rate * gradient_bias\n",
    "\n",
    "\n",
    "    def predict (self, X):\n",
    "        Y_prediction = np.zeros((1,X.shape[0]))\n",
    "        X = X.transpose()\n",
    "\n",
    "        A = self.sigmoid(np.dot(self.weight.T, X) + self.bias)\n",
    "        \n",
    "        for i in range(A.shape[1]):\n",
    "            if (A[:,i] > 0.5): \n",
    "                Y_prediction[:, i] = 1\n",
    "            elif (A[:,i] <= 0.5):\n",
    "                Y_prediction[:, i] = 0\n",
    "\n",
    "        return Y_prediction"
   ]
  },
  {
   "cell_type": "code",
   "execution_count": 4,
   "metadata": {},
   "outputs": [],
   "source": [
    "def model(number,batch_size, epochs, learning_rate, train_images, train_labels_original, test_images, test_labels_original):\n",
    "        data_size = train_images.shape[0]\n",
    "        dimension = train_images.shape[1]\n",
    "        number_classifier = classifier(number, batch_size, dimension, learning_rate)\n",
    "        Label_train_binary = [1 if a == number_classifier.number else 0 for a in train_labels_original]\n",
    "        Label_test_binary = [1 if a == number_classifier.number else 0 for a in test_labels_original]\n",
    "        Label_train_binary = np.asarray(Label_train_binary)\n",
    "        Label_test_binary = np.asarray(Label_test_binary)\n",
    "\n",
    "        for epoch in range(epochs):\n",
    "                shuffled_indices = np.random.permutation(data_size)\n",
    "                train_images_shuffled = train_images[shuffled_indices]\n",
    "                train_labels_shuffled = Label_train_binary[shuffled_indices]\n",
    "                for i in range(0, data_size, batch_size):\n",
    "                        xi = train_images_shuffled[i : i + batch_size]\n",
    "                        yi = train_labels_shuffled[i : i + batch_size]\n",
    "                        number_classifier.update(xi,yi)\n",
    "        Label_prediction_train = number_classifier.predict(train_images)\n",
    "        Label_prediction_test = number_classifier.predict(test_images)\n",
    "\n",
    "        train_accuracy = 100.0 - np.mean(np.abs(Label_prediction_train - Label_train_binary) * 100.0)\n",
    "        test_accuracy = 100.0 - np.mean(np.abs(Label_prediction_test - Label_test_binary) * 100.0)\n",
    "\n",
    "        return train_accuracy, test_accuracy"
   ]
  },
  {
   "cell_type": "code",
   "execution_count": 5,
   "metadata": {},
   "outputs": [
    {
     "name": "stdout",
     "output_type": "stream",
     "text": [
      "train accuracy: 97.605\n",
      "test accuracy: 97.71\n"
     ]
    }
   ],
   "source": [
    "batch_size = 128\n",
    "epochs = 100\n",
    "learning_rate = 0.1\n",
    "\n",
    "\n",
    "train_accuracy, test_accuracy = model(5,batch_size, epochs, learning_rate, train_images, train_labels_original, test_images, test_labels_original)\n",
    "\n",
    "\n",
    "print \"train accuracy: \"+ str(train_accuracy)\n",
    "print \"test accuracy: \"+ str(test_accuracy)"
   ]
  },
  {
   "cell_type": "code",
   "execution_count": null,
   "metadata": {},
   "outputs": [],
   "source": []
  },
  {
   "cell_type": "code",
   "execution_count": null,
   "metadata": {},
   "outputs": [],
   "source": []
  }
 ],
 "metadata": {
  "kernelspec": {
   "display_name": "Python 2",
   "language": "python",
   "name": "python2"
  },
  "language_info": {
   "codemirror_mode": {
    "name": "ipython",
    "version": 2
   },
   "file_extension": ".py",
   "mimetype": "text/x-python",
   "name": "python",
   "nbconvert_exporter": "python",
   "pygments_lexer": "ipython2",
   "version": "2.7.12"
  }
 },
 "nbformat": 4,
 "nbformat_minor": 2
}
