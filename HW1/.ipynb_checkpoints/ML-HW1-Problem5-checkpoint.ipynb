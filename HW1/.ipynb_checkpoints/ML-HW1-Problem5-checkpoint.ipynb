{
 "cells": [
  {
   "cell_type": "code",
   "execution_count": 2,
   "metadata": {},
   "outputs": [
    {
     "name": "stderr",
     "output_type": "stream",
     "text": [
      "Using TensorFlow backend.\n"
     ]
    }
   ],
   "source": [
    "import numpy as np\n",
    "from keras.datasets import mnist\n",
    "from keras import models\n",
    "from keras import layers\n",
    "from keras.utils import to_categorical\n",
    "from copy import copy, deepcopy\n",
    "import matplotlib.pyplot as plt"
   ]
  },
  {
   "cell_type": "code",
   "execution_count": 2,
   "metadata": {},
   "outputs": [],
   "source": [
    "def return_next(visited, stack, counter):\n",
    "    dim = len(visited)\n",
    "    for col in range(dim):\n",
    "        for row in range(dim):\n",
    "            if not visited[row][col]:\n",
    "                stack.append((row, col))\n",
    "                counter += 1\n",
    "                return stack, counter"
   ]
  },
  {
   "cell_type": "code",
   "execution_count": 3,
   "metadata": {},
   "outputs": [],
   "source": [
    "def CC_counter_four(matrix):\n",
    "    visited = deepcopy(matrix)\n",
    "    dim = len(matrix)\n",
    "    for col in range(dim):\n",
    "        for row in range(dim):\n",
    "            if matrix[row][col] == 0:\n",
    "                visited[row][col] = False\n",
    "            else:\n",
    "                visited[row][col] = True\n",
    "    \n",
    "    stack = []\n",
    "    counter = 0\n",
    "\n",
    "    while not all(v for row in visited for v in row):\n",
    "        if not stack:\n",
    "            stack, counter = return_next(visited, stack, counter)\n",
    "            \n",
    "        popped = stack.pop()\n",
    "        visited[popped[0]][popped[1]] = True\n",
    "        if popped[0] - 1 >= 0 and not visited[popped[0] - 1][popped[1]]:\n",
    "            stack.append((popped[0] - 1, popped[1]))\n",
    "        if popped[0] + 1 < dim and not visited[popped[0] + 1][popped[1]]:\n",
    "            stack.append((popped[0] + 1, popped[1]))\n",
    "        if popped[1] - 1 >= 0 and not visited[popped[0]][popped[1] - 1]:\n",
    "            stack.append((popped[0], popped[1] - 1))\n",
    "        if popped[1] + 1 < dim and not visited[popped[0]][popped[1] + 1]:\n",
    "            stack.append((popped[0], popped[1] + 1))\n",
    "                \n",
    "    return counter"
   ]
  },
  {
   "cell_type": "code",
   "execution_count": 4,
   "metadata": {},
   "outputs": [],
   "source": [
    "def CC_counter_eight(matrix):\n",
    "    visited = deepcopy(matrix)\n",
    "    dim = len(matrix)\n",
    "    for col in range(dim):\n",
    "        for row in range(dim):\n",
    "            if matrix[row][col] == 0:\n",
    "                visited[row][col] = False\n",
    "            else:\n",
    "                visited[row][col] = True\n",
    "    stack = []\n",
    "    counter = 0\n",
    "\n",
    "    while not all(v for row in visited for v in row):\n",
    "        if not stack:\n",
    "            stack, counter = return_next(visited, stack, counter)\n",
    "            \n",
    "        popped = stack.pop()\n",
    "        visited[popped[0]][popped[1]] = True\n",
    "        if popped[0] - 1 >= 0 and not visited[popped[0] - 1][popped[1]]:\n",
    "            stack.append((popped[0] - 1, popped[1]))\n",
    "        if popped[0] + 1 < dim and not visited[popped[0] + 1][popped[1]]:\n",
    "            stack.append((popped[0] + 1, popped[1]))\n",
    "        if popped[1] - 1 >= 0 and not visited[popped[0]][popped[1] - 1]:\n",
    "            stack.append((popped[0], popped[1] - 1))\n",
    "        if popped[1] + 1 < dim and not visited[popped[0]][popped[1] + 1]:\n",
    "            stack.append((popped[0], popped[1] + 1))\n",
    "        if popped[0] + 1 < dim and popped[1] + 1 < dim and not visited[popped[0] + 1][popped[1] + 1]:\n",
    "            stack.append((popped[0] + 1,popped[1] + 1))\n",
    "        if popped[0] - 1 >= 0 and popped[1] - 1 >= 0 and not visited[popped[0] - 1][popped[1] - 1]:\n",
    "            stack.append((popped[0] - 1,popped[1] - 1))\n",
    "        if popped[0] - 1 >= 0 and popped[1] + 1 < dim and not visited[popped[0] - 1][popped[1] + 1]:\n",
    "            stack.append((popped[0] - 1,popped[1] + 1))\n",
    "        if popped[0] + 1 < dim and popped[1] - 1 >= 0 and not visited[popped[0] + 1][popped[1] - 1]:\n",
    "            stack.append((popped[0] + 1,popped[1] - 1))\n",
    "    \n",
    "                \n",
    "    return counter"
   ]
  },
  {
   "cell_type": "code",
   "execution_count": 5,
   "metadata": {},
   "outputs": [],
   "source": [
    "def Value_summation(matrix):\n",
    "        return sum(map(sum, matrix))"
   ]
  },
  {
   "cell_type": "code",
   "execution_count": 7,
   "metadata": {},
   "outputs": [],
   "source": [
    "# data load\n",
    "(train_images_original, train_labels_original), (test_images_original, test_labels_original) = mnist.load_data()\n",
    "\n",
    "batch_size = 128\n",
    "num_classes = 10\n",
    "epochs = 12\n",
    "train_size = 60000\n",
    "test_size = 10000\n",
    "\n",
    "# input image dimensions\n",
    "img_rows, img_cols = 28, 28\n",
    "\n",
    "# data reshape and black and white\n",
    "train_images = train_images_original.reshape((train_size, 28 * 28))\n",
    "train_images = train_images.astype('float32') / 255.0\n",
    "\n",
    "test_images = test_images_original.reshape((test_size, 28 * 28))\n",
    "test_images = test_images.astype('float32') / 255.0\n",
    "\n",
    "train_labels = to_categorical(train_labels_original)\n",
    "test_labels = to_categorical(test_labels_original)\n",
    "\n",
    "\n",
    "for i in range(train_size):\n",
    "    np.append(train_images[i],CC_counter_four(train_images_original[i].astype('float32') / 255.0)/4.0)\n",
    "    np.append(train_images[i],CC_counter_eight(train_images_original[i].astype('float32') / 255.0)/4.0)\n",
    "\n",
    "    if i < test_size:\n",
    "        np.append(test_images[i],CC_counter_four(test_images_original[i].astype('float32') / 255.0)/4.0)\n",
    "        np.append(test_images[i],CC_counter_eight(test_images_original[i].astype('float32') / 255.0)/4.0)"
   ]
  },
  {
   "cell_type": "code",
   "execution_count": 3,
   "metadata": {},
   "outputs": [
    {
     "ename": "NameError",
     "evalue": "name 'train_images' is not defined",
     "output_type": "error",
     "traceback": [
      "\u001b[0;31m---------------------------------------------------------------------------\u001b[0m",
      "\u001b[0;31mNameError\u001b[0m                                 Traceback (most recent call last)",
      "\u001b[0;32m<ipython-input-3-b927bb280a6b>\u001b[0m in \u001b[0;36m<module>\u001b[0;34m()\u001b[0m\n\u001b[1;32m      8\u001b[0m \u001b[0;34m\u001b[0m\u001b[0m\n\u001b[1;32m      9\u001b[0m \u001b[0;34m\u001b[0m\u001b[0m\n\u001b[0;32m---> 10\u001b[0;31m history = network.fit(train_images, \n\u001b[0m\u001b[1;32m     11\u001b[0m                     \u001b[0mtrain_labels\u001b[0m\u001b[0;34m,\u001b[0m\u001b[0;34m\u001b[0m\u001b[0m\n\u001b[1;32m     12\u001b[0m                     \u001b[0mepochs\u001b[0m\u001b[0;34m=\u001b[0m\u001b[0mepochs\u001b[0m\u001b[0;34m,\u001b[0m\u001b[0;34m\u001b[0m\u001b[0m\n",
      "\u001b[0;31mNameError\u001b[0m: name 'train_images' is not defined"
     ]
    }
   ],
   "source": [
    "network = models.Sequential()\n",
    "# network.add(layers.Dense(512, activation='relu', input_shape=(28 * 28,)))\n",
    "network.add(layers.Dense(10, activation='softmax'))\n",
    "\n",
    "network.compile(optimizer='rmsprop',\n",
    "                loss='categorical_crossentropy',\n",
    "                metrics=['accuracy'])\n",
    "\n",
    "\n",
    "history = network.fit(train_images, \n",
    "                    train_labels, \n",
    "                    epochs=epochs, \n",
    "                    batch_size=128, \n",
    "                    validation_data=(test_images, test_labels))\n",
    "\n",
    "score = network.evaluate(test_images, test_labels, verbose=0)\n",
    "print('Test loss:', score[0])\n",
    "print('Test accuracy:', score[1])"
   ]
  },
  {
   "cell_type": "code",
   "execution_count": null,
   "metadata": {},
   "outputs": [],
   "source": [
    "plt.plot(history.history['acc'])\n",
    "plt.plot(history.history['val_acc'])\n",
    "plt.title('model accuracy')\n",
    "plt.ylabel('accuracy')\n",
    "plt.xlabel('epoch')\n",
    "plt.legend(['train', 'test'], loc='upper left')\n",
    "plt.show()"
   ]
  }
 ],
 "metadata": {
  "kernelspec": {
   "display_name": "Python 2",
   "language": "python",
   "name": "python2"
  },
  "language_info": {
   "codemirror_mode": {
    "name": "ipython",
    "version": 2
   },
   "file_extension": ".py",
   "mimetype": "text/x-python",
   "name": "python",
   "nbconvert_exporter": "python",
   "pygments_lexer": "ipython2",
   "version": "2.7.12"
  }
 },
 "nbformat": 4,
 "nbformat_minor": 2
}
