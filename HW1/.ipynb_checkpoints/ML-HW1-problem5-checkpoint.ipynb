{
 "cells": [
  {
   "cell_type": "markdown",
   "metadata": {},
   "source": [
    "Here is the code for Problem 5. As what expected in the home work, I have calculated number of white regions considering 4 neighbors and 8 neighbors, also I have considered a new feature that is the summation of all cells of a image (Value_summation). I added these 3 new features at the end of input files and trained my network using keras. You can find the results at the bottom."
   ]
  },
  {
   "cell_type": "code",
   "execution_count": 1,
   "metadata": {
    "colab": {
     "base_uri": "https://localhost:8080/",
     "height": 34
    },
    "colab_type": "code",
    "id": "Xdd4DMOXGy4w",
    "outputId": "92c07851-c903-4d40-a39d-a9d2f7a6fed6"
   },
   "outputs": [
    {
     "name": "stderr",
     "output_type": "stream",
     "text": [
      "Using TensorFlow backend.\n"
     ]
    }
   ],
   "source": [
    "import numpy as np\n",
    "from keras.datasets import mnist\n",
    "from keras import models\n",
    "from keras import layers\n",
    "from keras.utils import to_categorical\n",
    "from copy import copy, deepcopy\n",
    "import matplotlib.pyplot as plt"
   ]
  },
  {
   "cell_type": "code",
   "execution_count": 0,
   "metadata": {
    "colab": {},
    "colab_type": "code",
    "id": "O_KhZILoG7Gc"
   },
   "outputs": [],
   "source": [
    "def return_next(visited, stack, counter):\n",
    "    dim = len(visited)\n",
    "    for col in range(dim):\n",
    "        for row in range(dim):\n",
    "            if not visited[row][col]:\n",
    "                stack.append((row, col))\n",
    "                counter += 1\n",
    "                return stack, counter"
   ]
  },
  {
   "cell_type": "code",
   "execution_count": 0,
   "metadata": {
    "colab": {},
    "colab_type": "code",
    "id": "czSQ-OQwG8qd"
   },
   "outputs": [],
   "source": [
    "def CC_counter_four(matrix):\n",
    "    visited = deepcopy(matrix)\n",
    "    dim = len(matrix)\n",
    "    for col in range(dim):\n",
    "        for row in range(dim):\n",
    "            if matrix[row][col] == 0:\n",
    "                visited[row][col] = False\n",
    "            else:\n",
    "                visited[row][col] = True\n",
    "    \n",
    "    stack = []\n",
    "    counter = 0\n",
    "\n",
    "    while not all(v for row in visited for v in row):\n",
    "        if not stack:\n",
    "            stack, counter = return_next(visited, stack, counter)\n",
    "            \n",
    "        popped = stack.pop()\n",
    "        visited[popped[0]][popped[1]] = True\n",
    "        if popped[0] - 1 >= 0 and not visited[popped[0] - 1][popped[1]]:\n",
    "            stack.append((popped[0] - 1, popped[1]))\n",
    "        if popped[0] + 1 < dim and not visited[popped[0] + 1][popped[1]]:\n",
    "            stack.append((popped[0] + 1, popped[1]))\n",
    "        if popped[1] - 1 >= 0 and not visited[popped[0]][popped[1] - 1]:\n",
    "            stack.append((popped[0], popped[1] - 1))\n",
    "        if popped[1] + 1 < dim and not visited[popped[0]][popped[1] + 1]:\n",
    "            stack.append((popped[0], popped[1] + 1))\n",
    "                \n",
    "    return counter"
   ]
  },
  {
   "cell_type": "code",
   "execution_count": 0,
   "metadata": {
    "colab": {},
    "colab_type": "code",
    "id": "lZY-ar1WG-_z"
   },
   "outputs": [],
   "source": [
    "def CC_counter_eight(matrix):\n",
    "    visited = deepcopy(matrix)\n",
    "    dim = len(matrix)\n",
    "    for col in range(dim):\n",
    "        for row in range(dim):\n",
    "            if matrix[row][col] == 0:\n",
    "                visited[row][col] = False\n",
    "            else:\n",
    "                visited[row][col] = True\n",
    "    stack = []\n",
    "    counter = 0\n",
    "\n",
    "    while not all(v for row in visited for v in row):\n",
    "        if not stack:\n",
    "            stack, counter = return_next(visited, stack, counter)\n",
    "            \n",
    "        popped = stack.pop()\n",
    "        visited[popped[0]][popped[1]] = True\n",
    "        if popped[0] - 1 >= 0 and not visited[popped[0] - 1][popped[1]]:\n",
    "            stack.append((popped[0] - 1, popped[1]))\n",
    "        if popped[0] + 1 < dim and not visited[popped[0] + 1][popped[1]]:\n",
    "            stack.append((popped[0] + 1, popped[1]))\n",
    "        if popped[1] - 1 >= 0 and not visited[popped[0]][popped[1] - 1]:\n",
    "            stack.append((popped[0], popped[1] - 1))\n",
    "        if popped[1] + 1 < dim and not visited[popped[0]][popped[1] + 1]:\n",
    "            stack.append((popped[0], popped[1] + 1))\n",
    "        if popped[0] + 1 < dim and popped[1] + 1 < dim and not visited[popped[0] + 1][popped[1] + 1]:\n",
    "            stack.append((popped[0] + 1,popped[1] + 1))\n",
    "        if popped[0] - 1 >= 0 and popped[1] - 1 >= 0 and not visited[popped[0] - 1][popped[1] - 1]:\n",
    "            stack.append((popped[0] - 1,popped[1] - 1))\n",
    "        if popped[0] - 1 >= 0 and popped[1] + 1 < dim and not visited[popped[0] - 1][popped[1] + 1]:\n",
    "            stack.append((popped[0] - 1,popped[1] + 1))\n",
    "        if popped[0] + 1 < dim and popped[1] - 1 >= 0 and not visited[popped[0] + 1][popped[1] - 1]:\n",
    "            stack.append((popped[0] + 1,popped[1] - 1))\n",
    "    \n",
    "                \n",
    "    return counter"
   ]
  },
  {
   "cell_type": "code",
   "execution_count": 0,
   "metadata": {
    "colab": {},
    "colab_type": "code",
    "id": "9xir_Gr0HBHN"
   },
   "outputs": [],
   "source": [
    "def Value_summation(matrix):\n",
    "        return sum(map(sum, matrix))"
   ]
  },
  {
   "cell_type": "code",
   "execution_count": 0,
   "metadata": {
    "colab": {},
    "colab_type": "code",
    "id": "4YH0GvuLHDxk"
   },
   "outputs": [],
   "source": [
    "# data load\n",
    "(train_images_original, train_labels_original), (test_images_original, test_labels_original) = mnist.load_data()\n",
    "\n",
    "batch_size = 128\n",
    "num_classes = 10\n",
    "epochs = 12\n",
    "train_size = 60000\n",
    "test_size = 10000\n",
    "\n",
    "# input image dimensions\n",
    "img_rows, img_cols = 28, 28\n",
    "\n",
    "# data reshape and black and white\n",
    "train_images = train_images_original.reshape((train_size, 28 * 28))\n",
    "train_images = train_images.astype('float32') / 255.0\n",
    "\n",
    "test_images = test_images_original.reshape((test_size, 28 * 28))\n",
    "test_images = test_images.astype('float32') / 255.0\n",
    "\n",
    "train_labels = to_categorical(train_labels_original)\n",
    "test_labels = to_categorical(test_labels_original)\n",
    "\n",
    "\n",
    "for i in range(train_size):\n",
    "    np.append(train_images[i],CC_counter_four(train_images_original[i].astype('float32') / 255.0)/4.0)\n",
    "    np.append(train_images[i],CC_counter_eight(train_images_original[i].astype('float32') / 255.0)/4.0)\n",
    "    np.append(train_images[i],Value_summation(train_images_original[i].astype('float32') / 255.0)/784)\n",
    "\n",
    "    if i < test_size:\n",
    "        np.append(test_images[i],CC_counter_four(test_images_original[i].astype('float32') / 255.0)/4.0)\n",
    "        np.append(test_images[i],CC_counter_eight(test_images_original[i].astype('float32') / 255.0)/4.0)\n",
    "        np.append(test_images[i],Value_summation(test_images_original[i].astype('float32') / 255.0)/784)"
   ]
  },
  {
   "cell_type": "code",
   "execution_count": 7,
   "metadata": {
    "colab": {
     "base_uri": "https://localhost:8080/",
     "height": 598
    },
    "colab_type": "code",
    "id": "o6Nj_R6vHGzV",
    "outputId": "cd45d352-3c68-4987-fa2e-f6d0717de5d3"
   },
   "outputs": [
    {
     "name": "stdout",
     "output_type": "stream",
     "text": [
      "WARNING:tensorflow:From /usr/local/lib/python2.7/dist-packages/tensorflow/python/framework/op_def_library.py:263: colocate_with (from tensorflow.python.framework.ops) is deprecated and will be removed in a future version.\n",
      "Instructions for updating:\n",
      "Colocations handled automatically by placer.\n",
      "WARNING:tensorflow:From /usr/local/lib/python2.7/dist-packages/tensorflow/python/ops/math_ops.py:3066: to_int32 (from tensorflow.python.ops.math_ops) is deprecated and will be removed in a future version.\n",
      "Instructions for updating:\n",
      "Use tf.cast instead.\n",
      "Train on 60000 samples, validate on 10000 samples\n",
      "Epoch 1/12\n",
      "60000/60000 [==============================] - 1s 23us/step - loss: 0.6024 - acc: 0.8513 - val_loss: 0.3411 - val_acc: 0.9096\n",
      "Epoch 2/12\n",
      "60000/60000 [==============================] - 1s 19us/step - loss: 0.3306 - acc: 0.9079 - val_loss: 0.3010 - val_acc: 0.9176\n",
      "Epoch 3/12\n",
      "60000/60000 [==============================] - 1s 18us/step - loss: 0.3014 - acc: 0.9159 - val_loss: 0.2860 - val_acc: 0.9205\n",
      "Epoch 4/12\n",
      "60000/60000 [==============================] - 1s 18us/step - loss: 0.2880 - acc: 0.9194 - val_loss: 0.2788 - val_acc: 0.9217\n",
      "Epoch 5/12\n",
      "60000/60000 [==============================] - 1s 18us/step - loss: 0.2797 - acc: 0.9220 - val_loss: 0.2746 - val_acc: 0.9248\n",
      "Epoch 6/12\n",
      "60000/60000 [==============================] - 1s 18us/step - loss: 0.2740 - acc: 0.9239 - val_loss: 0.2722 - val_acc: 0.9250\n",
      "Epoch 7/12\n",
      "60000/60000 [==============================] - 1s 18us/step - loss: 0.2702 - acc: 0.9251 - val_loss: 0.2699 - val_acc: 0.9259\n",
      "Epoch 8/12\n",
      "60000/60000 [==============================] - 1s 18us/step - loss: 0.2671 - acc: 0.9263 - val_loss: 0.2700 - val_acc: 0.9267\n",
      "Epoch 9/12\n",
      "60000/60000 [==============================] - 1s 18us/step - loss: 0.2644 - acc: 0.9278 - val_loss: 0.2697 - val_acc: 0.9267\n",
      "Epoch 10/12\n",
      "60000/60000 [==============================] - 1s 18us/step - loss: 0.2622 - acc: 0.9275 - val_loss: 0.2709 - val_acc: 0.9262\n",
      "Epoch 11/12\n",
      "60000/60000 [==============================] - 1s 18us/step - loss: 0.2605 - acc: 0.9286 - val_loss: 0.2698 - val_acc: 0.9275\n",
      "Epoch 12/12\n",
      "60000/60000 [==============================] - 1s 18us/step - loss: 0.2589 - acc: 0.9291 - val_loss: 0.2712 - val_acc: 0.9270\n",
      "('Test loss:', 0.2712223367393017)\n",
      "('Test accuracy:', 0.927)\n"
     ]
    }
   ],
   "source": [
    "network = models.Sequential()\n",
    "network.add(layers.Dense(10, activation='softmax'))\n",
    "\n",
    "network.compile(optimizer='rmsprop',\n",
    "                loss='categorical_crossentropy',\n",
    "                metrics=['accuracy'])\n",
    "\n",
    "\n",
    "history = network.fit(train_images, \n",
    "                    train_labels, \n",
    "                    epochs=epochs, \n",
    "                    batch_size=128, \n",
    "                    validation_data=(test_images, test_labels))\n",
    "\n",
    "score = network.evaluate(test_images, test_labels, verbose=0)\n",
    "print('Test loss:', score[0])\n",
    "print('Test accuracy:', score[1])"
   ]
  },
  {
   "cell_type": "code",
   "execution_count": 8,
   "metadata": {
    "colab": {
     "base_uri": "https://localhost:8080/",
     "height": 376
    },
    "colab_type": "code",
    "id": "WFQgipQXHKrt",
    "outputId": "8e5583f0-b4f3-4069-cc08-0a308306fffa"
   },
   "outputs": [
    {
     "data": {
      "image/png": "[encoded data removed]",
      "text/plain": [
       "<Figure size 576x396 with 1 Axes>"
      ]
     },
     "metadata": {
      "tags": []
     },
     "output_type": "display_data"
    }
   ],
   "source": [
    "plt.plot(history.history['acc'])\n",
    "plt.plot(history.history['val_acc'])\n",
    "plt.title('model accuracy')\n",
    "plt.ylabel('accuracy')\n",
    "plt.xlabel('epoch')\n",
    "plt.legend(['train', 'test'], loc='upper left')\n",
    "plt.show()"
   ]
  }
 ],
 "metadata": {
  "colab": {
   "collapsed_sections": [],
   "name": "problem5.ipynb",
   "provenance": [],
   "version": "0.3.2"
  },
  "kernelspec": {
   "display_name": "Python 2",
   "language": "python",
   "name": "python2"
  },
  "language_info": {
   "codemirror_mode": {
    "name": "ipython",
    "version": 2
   },
   "file_extension": ".py",
   "mimetype": "text/x-python",
   "name": "python",
   "nbconvert_exporter": "python",
   "pygments_lexer": "ipython2",
   "version": "2.7.12"
  }
 },
 "nbformat": 4,
 "nbformat_minor": 1
}
